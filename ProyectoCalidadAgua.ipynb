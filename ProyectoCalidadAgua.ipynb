{
  "cells": [
    {
      "cell_type": "markdown",
      "metadata": {
        "id": "eM3aicB3k5gc"
      },
      "source": [
        "#Proyecto \n",
        "## Predicción de la calidad del agua\n",
        "Los datos utilizados en el presente proyecto fueron obtenidos de https://www.kaggle.com/adityakadiwal/water-potability\n",
        "\n"
      ]
    },
    {
      "cell_type": "markdown",
      "metadata": {
        "id": "Uc4Jb8T933Yj"
      },
      "source": [
        "![texto alternativo](https://www.elagoradiario.com/wp-content/uploads/2021/01/agua.jpg)"
      ]
    },
    {
      "cell_type": "markdown",
      "metadata": {
        "id": "C16xqR5xlfoJ"
      },
      "source": [
        "**Descripción de los datos**\n",
        "* ph: Ph del agua\n",
        "* Hardness: Capacidad del agua para precipitar jabón en mg/L\n",
        "* Solids: Total de sólidos disueltos en ppm\n",
        "* Chloramines: Cantidad de cloraminas en ppm\n",
        "* Sulfate: Cantidad de sulfatos disueltos en mg/L\n",
        "* Conductivity: Conductividad eléctrica del agua en μS/cm\n",
        "* Organic_carbon: Cantidad de carbono orgáncio en ppm\n",
        "* Trihalomethanes: Cantidad de trihalometanos en μg/L\n",
        "* Turbidity:  Medida de la propiedad de emisión de luz del agua en NTU (Unidades nefelométricas de turbidez)\n",
        "* Potability: Indica si el agua es segura para el consumo humano\n",
        "\n",
        "ppm : Partes por millón\n",
        "\n",
        "\n",
        "\n",
        "\n",
        "\n"
      ]
    },
    {
      "cell_type": "markdown",
      "metadata": {
        "id": "D_3NdN8z9aRE"
      },
      "source": [
        "#1. Análisis Exploratorio y Preprocesamiento de datos"
      ]
    },
    {
      "cell_type": "markdown",
      "metadata": {
        "id": "ZA38ETrYAu5f"
      },
      "source": [
        "**Análisis inicial**"
      ]
    },
    {
      "cell_type": "code",
      "execution_count": null,
      "metadata": {
        "id": "mScJG0Xl4ZU6"
      },
      "outputs": [],
      "source": [
        "#Importamos las librerías a utilizar\n",
        "import pandas as pd\n",
        "import numpy as np\n",
        "import missingno as ms\n",
        "import seaborn as sns\n",
        "import matplotlib.pyplot as plt"
      ]
    },
    {
      "cell_type": "code",
      "execution_count": null,
      "metadata": {
        "colab": {
          "base_uri": "https://localhost:8080/",
          "height": 206
        },
        "id": "gTGy8aS0kk4b",
        "outputId": "3952112a-4562-4b34-c178-dfb585c35410"
      },
      "outputs": [
        {
          "output_type": "execute_result",
          "data": {
            "text/html": [
              "\n",
              "  <div id=\"df-d52deade-98b2-413e-8904-1b53600c24d1\">\n",
              "    <div class=\"colab-df-container\">\n",
              "      <div>\n",
              "<style scoped>\n",
              "    .dataframe tbody tr th:only-of-type {\n",
              "        vertical-align: middle;\n",
              "    }\n",
              "\n",
              "    .dataframe tbody tr th {\n",
              "        vertical-align: top;\n",
              "    }\n",
              "\n",
              "    .dataframe thead th {\n",
              "        text-align: right;\n",
              "    }\n",
              "</style>\n",
              "<table border=\"1\" class=\"dataframe\">\n",
              "  <thead>\n",
              "    <tr style=\"text-align: right;\">\n",
              "      <th></th>\n",
              "      <th>ph</th>\n",
              "      <th>Hardness</th>\n",
              "      <th>Solids</th>\n",
              "      <th>Chloramines</th>\n",
              "      <th>Sulfate</th>\n",
              "      <th>Conductivity</th>\n",
              "      <th>Organic_carbon</th>\n",
              "      <th>Trihalomethanes</th>\n",
              "      <th>Turbidity</th>\n",
              "      <th>Potability</th>\n",
              "    </tr>\n",
              "  </thead>\n",
              "  <tbody>\n",
              "    <tr>\n",
              "      <th>0</th>\n",
              "      <td>NaN</td>\n",
              "      <td>204.890455</td>\n",
              "      <td>20791.318981</td>\n",
              "      <td>7.300212</td>\n",
              "      <td>368.516441</td>\n",
              "      <td>564.308654</td>\n",
              "      <td>10.379783</td>\n",
              "      <td>86.990970</td>\n",
              "      <td>2.963135</td>\n",
              "      <td>0</td>\n",
              "    </tr>\n",
              "    <tr>\n",
              "      <th>1</th>\n",
              "      <td>3.716080</td>\n",
              "      <td>129.422921</td>\n",
              "      <td>18630.057858</td>\n",
              "      <td>6.635246</td>\n",
              "      <td>NaN</td>\n",
              "      <td>592.885359</td>\n",
              "      <td>15.180013</td>\n",
              "      <td>56.329076</td>\n",
              "      <td>4.500656</td>\n",
              "      <td>0</td>\n",
              "    </tr>\n",
              "    <tr>\n",
              "      <th>2</th>\n",
              "      <td>8.099124</td>\n",
              "      <td>224.236259</td>\n",
              "      <td>19909.541732</td>\n",
              "      <td>9.275884</td>\n",
              "      <td>NaN</td>\n",
              "      <td>418.606213</td>\n",
              "      <td>16.868637</td>\n",
              "      <td>66.420093</td>\n",
              "      <td>3.055934</td>\n",
              "      <td>0</td>\n",
              "    </tr>\n",
              "    <tr>\n",
              "      <th>3</th>\n",
              "      <td>8.316766</td>\n",
              "      <td>214.373394</td>\n",
              "      <td>22018.417441</td>\n",
              "      <td>8.059332</td>\n",
              "      <td>356.886136</td>\n",
              "      <td>363.266516</td>\n",
              "      <td>18.436524</td>\n",
              "      <td>100.341674</td>\n",
              "      <td>4.628771</td>\n",
              "      <td>0</td>\n",
              "    </tr>\n",
              "    <tr>\n",
              "      <th>4</th>\n",
              "      <td>9.092223</td>\n",
              "      <td>181.101509</td>\n",
              "      <td>17978.986339</td>\n",
              "      <td>6.546600</td>\n",
              "      <td>310.135738</td>\n",
              "      <td>398.410813</td>\n",
              "      <td>11.558279</td>\n",
              "      <td>31.997993</td>\n",
              "      <td>4.075075</td>\n",
              "      <td>0</td>\n",
              "    </tr>\n",
              "  </tbody>\n",
              "</table>\n",
              "</div>\n",
              "      <button class=\"colab-df-convert\" onclick=\"convertToInteractive('df-d52deade-98b2-413e-8904-1b53600c24d1')\"\n",
              "              title=\"Convert this dataframe to an interactive table.\"\n",
              "              style=\"display:none;\">\n",
              "        \n",
              "  <svg xmlns=\"http://www.w3.org/2000/svg\" height=\"24px\"viewBox=\"0 0 24 24\"\n",
              "       width=\"24px\">\n",
              "    <path d=\"M0 0h24v24H0V0z\" fill=\"none\"/>\n",
              "    <path d=\"M18.56 5.44l.94 2.06.94-2.06 2.06-.94-2.06-.94-.94-2.06-.94 2.06-2.06.94zm-11 1L8.5 8.5l.94-2.06 2.06-.94-2.06-.94L8.5 2.5l-.94 2.06-2.06.94zm10 10l.94 2.06.94-2.06 2.06-.94-2.06-.94-.94-2.06-.94 2.06-2.06.94z\"/><path d=\"M17.41 7.96l-1.37-1.37c-.4-.4-.92-.59-1.43-.59-.52 0-1.04.2-1.43.59L10.3 9.45l-7.72 7.72c-.78.78-.78 2.05 0 2.83L4 21.41c.39.39.9.59 1.41.59.51 0 1.02-.2 1.41-.59l7.78-7.78 2.81-2.81c.8-.78.8-2.07 0-2.86zM5.41 20L4 18.59l7.72-7.72 1.47 1.35L5.41 20z\"/>\n",
              "  </svg>\n",
              "      </button>\n",
              "      \n",
              "  <style>\n",
              "    .colab-df-container {\n",
              "      display:flex;\n",
              "      flex-wrap:wrap;\n",
              "      gap: 12px;\n",
              "    }\n",
              "\n",
              "    .colab-df-convert {\n",
              "      background-color: #E8F0FE;\n",
              "      border: none;\n",
              "      border-radius: 50%;\n",
              "      cursor: pointer;\n",
              "      display: none;\n",
              "      fill: #1967D2;\n",
              "      height: 32px;\n",
              "      padding: 0 0 0 0;\n",
              "      width: 32px;\n",
              "    }\n",
              "\n",
              "    .colab-df-convert:hover {\n",
              "      background-color: #E2EBFA;\n",
              "      box-shadow: 0px 1px 2px rgba(60, 64, 67, 0.3), 0px 1px 3px 1px rgba(60, 64, 67, 0.15);\n",
              "      fill: #174EA6;\n",
              "    }\n",
              "\n",
              "    [theme=dark] .colab-df-convert {\n",
              "      background-color: #3B4455;\n",
              "      fill: #D2E3FC;\n",
              "    }\n",
              "\n",
              "    [theme=dark] .colab-df-convert:hover {\n",
              "      background-color: #434B5C;\n",
              "      box-shadow: 0px 1px 3px 1px rgba(0, 0, 0, 0.15);\n",
              "      filter: drop-shadow(0px 1px 2px rgba(0, 0, 0, 0.3));\n",
              "      fill: #FFFFFF;\n",
              "    }\n",
              "  </style>\n",
              "\n",
              "      <script>\n",
              "        const buttonEl =\n",
              "          document.querySelector('#df-d52deade-98b2-413e-8904-1b53600c24d1 button.colab-df-convert');\n",
              "        buttonEl.style.display =\n",
              "          google.colab.kernel.accessAllowed ? 'block' : 'none';\n",
              "\n",
              "        async function convertToInteractive(key) {\n",
              "          const element = document.querySelector('#df-d52deade-98b2-413e-8904-1b53600c24d1');\n",
              "          const dataTable =\n",
              "            await google.colab.kernel.invokeFunction('convertToInteractive',\n",
              "                                                     [key], {});\n",
              "          if (!dataTable) return;\n",
              "\n",
              "          const docLinkHtml = 'Like what you see? Visit the ' +\n",
              "            '<a target=\"_blank\" href=https://colab.research.google.com/notebooks/data_table.ipynb>data table notebook</a>'\n",
              "            + ' to learn more about interactive tables.';\n",
              "          element.innerHTML = '';\n",
              "          dataTable['output_type'] = 'display_data';\n",
              "          await google.colab.output.renderOutput(dataTable, element);\n",
              "          const docLink = document.createElement('div');\n",
              "          docLink.innerHTML = docLinkHtml;\n",
              "          element.appendChild(docLink);\n",
              "        }\n",
              "      </script>\n",
              "    </div>\n",
              "  </div>\n",
              "  "
            ],
            "text/plain": [
              "         ph    Hardness        Solids  ...  Trihalomethanes  Turbidity  Potability\n",
              "0       NaN  204.890455  20791.318981  ...        86.990970   2.963135           0\n",
              "1  3.716080  129.422921  18630.057858  ...        56.329076   4.500656           0\n",
              "2  8.099124  224.236259  19909.541732  ...        66.420093   3.055934           0\n",
              "3  8.316766  214.373394  22018.417441  ...       100.341674   4.628771           0\n",
              "4  9.092223  181.101509  17978.986339  ...        31.997993   4.075075           0\n",
              "\n",
              "[5 rows x 10 columns]"
            ]
          },
          "metadata": {},
          "execution_count": 98
        }
      ],
      "source": [
        "#Importamos el dataset \n",
        "data = pd.read_csv(\"https://raw.githubusercontent.com/SergioGerman412/Grupo-de-Estudio/main/water_potability.csv\")\n",
        "data.head()"
      ]
    },
    {
      "cell_type": "markdown",
      "metadata": {
        "id": "1w2wq6_jAb6d"
      },
      "source": [
        "Encontrando las dimensiones del dataset"
      ]
    },
    {
      "cell_type": "code",
      "execution_count": null,
      "metadata": {
        "colab": {
          "base_uri": "https://localhost:8080/"
        },
        "id": "EkHqD_6-5JHQ",
        "outputId": "a0a818d6-f53a-4c54-d1d1-44f6989367f6"
      },
      "outputs": [
        {
          "output_type": "stream",
          "name": "stdout",
          "text": [
            "El tamaño del dataset es 3276 filas y  10 columnas\n"
          ]
        }
      ],
      "source": [
        "print(\"El tamaño del dataset es\",data.shape[0],\"filas y \",data.shape[1],\"columnas\")"
      ]
    },
    {
      "cell_type": "code",
      "execution_count": null,
      "metadata": {
        "colab": {
          "base_uri": "https://localhost:8080/",
          "height": 300
        },
        "id": "itRR5o9l7lJD",
        "outputId": "bc9f0d1d-6011-4883-acb0-e128ec51de9e"
      },
      "outputs": [
        {
          "output_type": "execute_result",
          "data": {
            "text/html": [
              "\n",
              "  <div id=\"df-e2022540-ec0c-4506-b5c1-65ef2b9cfe4c\">\n",
              "    <div class=\"colab-df-container\">\n",
              "      <div>\n",
              "<style scoped>\n",
              "    .dataframe tbody tr th:only-of-type {\n",
              "        vertical-align: middle;\n",
              "    }\n",
              "\n",
              "    .dataframe tbody tr th {\n",
              "        vertical-align: top;\n",
              "    }\n",
              "\n",
              "    .dataframe thead th {\n",
              "        text-align: right;\n",
              "    }\n",
              "</style>\n",
              "<table border=\"1\" class=\"dataframe\">\n",
              "  <thead>\n",
              "    <tr style=\"text-align: right;\">\n",
              "      <th></th>\n",
              "      <th>ph</th>\n",
              "      <th>Hardness</th>\n",
              "      <th>Solids</th>\n",
              "      <th>Chloramines</th>\n",
              "      <th>Sulfate</th>\n",
              "      <th>Conductivity</th>\n",
              "      <th>Organic_carbon</th>\n",
              "      <th>Trihalomethanes</th>\n",
              "      <th>Turbidity</th>\n",
              "      <th>Potability</th>\n",
              "    </tr>\n",
              "  </thead>\n",
              "  <tbody>\n",
              "    <tr>\n",
              "      <th>count</th>\n",
              "      <td>2785.000000</td>\n",
              "      <td>3276.000000</td>\n",
              "      <td>3276.000000</td>\n",
              "      <td>3276.000000</td>\n",
              "      <td>2495.000000</td>\n",
              "      <td>3276.000000</td>\n",
              "      <td>3276.000000</td>\n",
              "      <td>3114.000000</td>\n",
              "      <td>3276.000000</td>\n",
              "      <td>3276.000000</td>\n",
              "    </tr>\n",
              "    <tr>\n",
              "      <th>mean</th>\n",
              "      <td>7.080795</td>\n",
              "      <td>196.369496</td>\n",
              "      <td>22014.092526</td>\n",
              "      <td>7.122277</td>\n",
              "      <td>333.775777</td>\n",
              "      <td>426.205111</td>\n",
              "      <td>14.284970</td>\n",
              "      <td>66.396293</td>\n",
              "      <td>3.966786</td>\n",
              "      <td>0.390110</td>\n",
              "    </tr>\n",
              "    <tr>\n",
              "      <th>std</th>\n",
              "      <td>1.594320</td>\n",
              "      <td>32.879761</td>\n",
              "      <td>8768.570828</td>\n",
              "      <td>1.583085</td>\n",
              "      <td>41.416840</td>\n",
              "      <td>80.824064</td>\n",
              "      <td>3.308162</td>\n",
              "      <td>16.175008</td>\n",
              "      <td>0.780382</td>\n",
              "      <td>0.487849</td>\n",
              "    </tr>\n",
              "    <tr>\n",
              "      <th>min</th>\n",
              "      <td>0.000000</td>\n",
              "      <td>47.432000</td>\n",
              "      <td>320.942611</td>\n",
              "      <td>0.352000</td>\n",
              "      <td>129.000000</td>\n",
              "      <td>181.483754</td>\n",
              "      <td>2.200000</td>\n",
              "      <td>0.738000</td>\n",
              "      <td>1.450000</td>\n",
              "      <td>0.000000</td>\n",
              "    </tr>\n",
              "    <tr>\n",
              "      <th>25%</th>\n",
              "      <td>6.093092</td>\n",
              "      <td>176.850538</td>\n",
              "      <td>15666.690297</td>\n",
              "      <td>6.127421</td>\n",
              "      <td>307.699498</td>\n",
              "      <td>365.734414</td>\n",
              "      <td>12.065801</td>\n",
              "      <td>55.844536</td>\n",
              "      <td>3.439711</td>\n",
              "      <td>0.000000</td>\n",
              "    </tr>\n",
              "    <tr>\n",
              "      <th>50%</th>\n",
              "      <td>7.036752</td>\n",
              "      <td>196.967627</td>\n",
              "      <td>20927.833607</td>\n",
              "      <td>7.130299</td>\n",
              "      <td>333.073546</td>\n",
              "      <td>421.884968</td>\n",
              "      <td>14.218338</td>\n",
              "      <td>66.622485</td>\n",
              "      <td>3.955028</td>\n",
              "      <td>0.000000</td>\n",
              "    </tr>\n",
              "    <tr>\n",
              "      <th>75%</th>\n",
              "      <td>8.062066</td>\n",
              "      <td>216.667456</td>\n",
              "      <td>27332.762127</td>\n",
              "      <td>8.114887</td>\n",
              "      <td>359.950170</td>\n",
              "      <td>481.792304</td>\n",
              "      <td>16.557652</td>\n",
              "      <td>77.337473</td>\n",
              "      <td>4.500320</td>\n",
              "      <td>1.000000</td>\n",
              "    </tr>\n",
              "    <tr>\n",
              "      <th>max</th>\n",
              "      <td>14.000000</td>\n",
              "      <td>323.124000</td>\n",
              "      <td>61227.196008</td>\n",
              "      <td>13.127000</td>\n",
              "      <td>481.030642</td>\n",
              "      <td>753.342620</td>\n",
              "      <td>28.300000</td>\n",
              "      <td>124.000000</td>\n",
              "      <td>6.739000</td>\n",
              "      <td>1.000000</td>\n",
              "    </tr>\n",
              "  </tbody>\n",
              "</table>\n",
              "</div>\n",
              "      <button class=\"colab-df-convert\" onclick=\"convertToInteractive('df-e2022540-ec0c-4506-b5c1-65ef2b9cfe4c')\"\n",
              "              title=\"Convert this dataframe to an interactive table.\"\n",
              "              style=\"display:none;\">\n",
              "        \n",
              "  <svg xmlns=\"http://www.w3.org/2000/svg\" height=\"24px\"viewBox=\"0 0 24 24\"\n",
              "       width=\"24px\">\n",
              "    <path d=\"M0 0h24v24H0V0z\" fill=\"none\"/>\n",
              "    <path d=\"M18.56 5.44l.94 2.06.94-2.06 2.06-.94-2.06-.94-.94-2.06-.94 2.06-2.06.94zm-11 1L8.5 8.5l.94-2.06 2.06-.94-2.06-.94L8.5 2.5l-.94 2.06-2.06.94zm10 10l.94 2.06.94-2.06 2.06-.94-2.06-.94-.94-2.06-.94 2.06-2.06.94z\"/><path d=\"M17.41 7.96l-1.37-1.37c-.4-.4-.92-.59-1.43-.59-.52 0-1.04.2-1.43.59L10.3 9.45l-7.72 7.72c-.78.78-.78 2.05 0 2.83L4 21.41c.39.39.9.59 1.41.59.51 0 1.02-.2 1.41-.59l7.78-7.78 2.81-2.81c.8-.78.8-2.07 0-2.86zM5.41 20L4 18.59l7.72-7.72 1.47 1.35L5.41 20z\"/>\n",
              "  </svg>\n",
              "      </button>\n",
              "      \n",
              "  <style>\n",
              "    .colab-df-container {\n",
              "      display:flex;\n",
              "      flex-wrap:wrap;\n",
              "      gap: 12px;\n",
              "    }\n",
              "\n",
              "    .colab-df-convert {\n",
              "      background-color: #E8F0FE;\n",
              "      border: none;\n",
              "      border-radius: 50%;\n",
              "      cursor: pointer;\n",
              "      display: none;\n",
              "      fill: #1967D2;\n",
              "      height: 32px;\n",
              "      padding: 0 0 0 0;\n",
              "      width: 32px;\n",
              "    }\n",
              "\n",
              "    .colab-df-convert:hover {\n",
              "      background-color: #E2EBFA;\n",
              "      box-shadow: 0px 1px 2px rgba(60, 64, 67, 0.3), 0px 1px 3px 1px rgba(60, 64, 67, 0.15);\n",
              "      fill: #174EA6;\n",
              "    }\n",
              "\n",
              "    [theme=dark] .colab-df-convert {\n",
              "      background-color: #3B4455;\n",
              "      fill: #D2E3FC;\n",
              "    }\n",
              "\n",
              "    [theme=dark] .colab-df-convert:hover {\n",
              "      background-color: #434B5C;\n",
              "      box-shadow: 0px 1px 3px 1px rgba(0, 0, 0, 0.15);\n",
              "      filter: drop-shadow(0px 1px 2px rgba(0, 0, 0, 0.3));\n",
              "      fill: #FFFFFF;\n",
              "    }\n",
              "  </style>\n",
              "\n",
              "      <script>\n",
              "        const buttonEl =\n",
              "          document.querySelector('#df-e2022540-ec0c-4506-b5c1-65ef2b9cfe4c button.colab-df-convert');\n",
              "        buttonEl.style.display =\n",
              "          google.colab.kernel.accessAllowed ? 'block' : 'none';\n",
              "\n",
              "        async function convertToInteractive(key) {\n",
              "          const element = document.querySelector('#df-e2022540-ec0c-4506-b5c1-65ef2b9cfe4c');\n",
              "          const dataTable =\n",
              "            await google.colab.kernel.invokeFunction('convertToInteractive',\n",
              "                                                     [key], {});\n",
              "          if (!dataTable) return;\n",
              "\n",
              "          const docLinkHtml = 'Like what you see? Visit the ' +\n",
              "            '<a target=\"_blank\" href=https://colab.research.google.com/notebooks/data_table.ipynb>data table notebook</a>'\n",
              "            + ' to learn more about interactive tables.';\n",
              "          element.innerHTML = '';\n",
              "          dataTable['output_type'] = 'display_data';\n",
              "          await google.colab.output.renderOutput(dataTable, element);\n",
              "          const docLink = document.createElement('div');\n",
              "          docLink.innerHTML = docLinkHtml;\n",
              "          element.appendChild(docLink);\n",
              "        }\n",
              "      </script>\n",
              "    </div>\n",
              "  </div>\n",
              "  "
            ],
            "text/plain": [
              "                ph     Hardness  ...    Turbidity   Potability\n",
              "count  2785.000000  3276.000000  ...  3276.000000  3276.000000\n",
              "mean      7.080795   196.369496  ...     3.966786     0.390110\n",
              "std       1.594320    32.879761  ...     0.780382     0.487849\n",
              "min       0.000000    47.432000  ...     1.450000     0.000000\n",
              "25%       6.093092   176.850538  ...     3.439711     0.000000\n",
              "50%       7.036752   196.967627  ...     3.955028     0.000000\n",
              "75%       8.062066   216.667456  ...     4.500320     1.000000\n",
              "max      14.000000   323.124000  ...     6.739000     1.000000\n",
              "\n",
              "[8 rows x 10 columns]"
            ]
          },
          "metadata": {},
          "execution_count": 100
        }
      ],
      "source": [
        "#Mostramos datos estadísticos del dataset\n",
        "data.describe()"
      ]
    },
    {
      "cell_type": "markdown",
      "metadata": {
        "id": "uyTXpEgz_Tpo"
      },
      "source": [
        "Hallamos la cantidad de valores en el target **Potability**"
      ]
    },
    {
      "cell_type": "code",
      "execution_count": null,
      "metadata": {
        "colab": {
          "base_uri": "https://localhost:8080/"
        },
        "id": "9ceBTpwE7b6Z",
        "outputId": "d86770b9-1a5d-421b-ba98-893226a6a636"
      },
      "outputs": [
        {
          "output_type": "execute_result",
          "data": {
            "text/plain": [
              "0    1998\n",
              "1    1278\n",
              "Name: Potability, dtype: int64"
            ]
          },
          "metadata": {},
          "execution_count": 101
        }
      ],
      "source": [
        "data['Potability'].value_counts()"
      ]
    },
    {
      "cell_type": "markdown",
      "source": [
        "Analizando la correlación de las variables"
      ],
      "metadata": {
        "id": "O_XWHIxJ4NXI"
      }
    },
    {
      "cell_type": "code",
      "source": [
        "corr = data.corr()\n",
        "fig, ax = plt.subplots(figsize=(10,6)) \n",
        "sns.heatmap(corr,\n",
        "            xticklabels = True,\n",
        "            yticklabels = True,\n",
        "            annot = True,\n",
        "            ax=ax\n",
        ")\n",
        "plt.title('Correlación de las variables')"
      ],
      "metadata": {
        "colab": {
          "base_uri": "https://localhost:8080/",
          "height": 480
        },
        "id": "uY5s77XcoE9g",
        "outputId": "b97b3b0d-7532-4ff0-9c6c-cc0cf46e369f"
      },
      "execution_count": null,
      "outputs": [
        {
          "output_type": "execute_result",
          "data": {
            "text/plain": [
              "Text(0.5, 1.0, 'Correlación de las variables')"
            ]
          },
          "metadata": {},
          "execution_count": 102
        },
        {
          "output_type": "display_data",
          "data": {
            "image/png": "[encoded data removed]",
            "text/plain": [
              "<Figure size 720x432 with 2 Axes>"
            ]
          },
          "metadata": {
            "needs_background": "light"
          }
        }
      ]
    },
    {
      "cell_type": "markdown",
      "source": [
        "Se observa que los valores de las correlaciones son cercanos a 0, por lo que todas las variables aportan información y no pueden ser eliminadas."
      ],
      "metadata": {
        "id": "vj74h7hCo1yP"
      }
    },
    {
      "cell_type": "markdown",
      "metadata": {
        "id": "S6dac8EK9Od2"
      },
      "source": [
        "**Detectando valores duplicados**"
      ]
    },
    {
      "cell_type": "code",
      "execution_count": null,
      "metadata": {
        "colab": {
          "base_uri": "https://localhost:8080/"
        },
        "id": "t9lXtZKP7RWF",
        "outputId": "3f2069e2-1edb-4254-80a7-45606ddd6e8c"
      },
      "outputs": [
        {
          "output_type": "execute_result",
          "data": {
            "text/plain": [
              "0"
            ]
          },
          "metadata": {},
          "execution_count": 103
        }
      ],
      "source": [
        "data.duplicated().sum()"
      ]
    },
    {
      "cell_type": "markdown",
      "metadata": {
        "id": "hgnZJDOm9TKJ"
      },
      "source": [
        "Se observa que no existen valores duplicados en el dataset"
      ]
    },
    {
      "cell_type": "markdown",
      "metadata": {
        "id": "nbXD6AyI8Ybr"
      },
      "source": [
        "**Detectando valores nulos**"
      ]
    },
    {
      "cell_type": "code",
      "execution_count": null,
      "metadata": {
        "colab": {
          "base_uri": "https://localhost:8080/",
          "height": 715
        },
        "id": "Ye4JttJl5uev",
        "outputId": "04011c4c-15d9-4e3c-8fe4-644c027c3c18"
      },
      "outputs": [
        {
          "output_type": "execute_result",
          "data": {
            "text/plain": [
              "<matplotlib.axes._subplots.AxesSubplot at 0x7f32183652d0>"
            ]
          },
          "metadata": {},
          "execution_count": 104
        },
        {
          "output_type": "display_data",
          "data": {
            "image/png": "[encoded data removed]",
            "text/plain": [
              "<Figure size 1800x720 with 2 Axes>"
            ]
          },
          "metadata": {
            "needs_background": "light"
          }
        }
      ],
      "source": [
        "ms.matrix(data)"
      ]
    },
    {
      "cell_type": "markdown",
      "metadata": {
        "id": "AfmxXbC08qT5"
      },
      "source": [
        "Se observa la existencia de valores nulos en las columnas \"pH\", \"sulfate\" y \"trihalomethanes\". Hallando la cantidad de ellos:"
      ]
    },
    {
      "cell_type": "code",
      "execution_count": null,
      "metadata": {
        "colab": {
          "base_uri": "https://localhost:8080/"
        },
        "id": "XYxvQWly5_CJ",
        "outputId": "5824b3e3-ec78-444a-fc49-9f7dd8c6aecf"
      },
      "outputs": [
        {
          "output_type": "stream",
          "name": "stdout",
          "text": [
            "Cantidad de valores nulos por columna\n",
            "\n"
          ]
        },
        {
          "output_type": "execute_result",
          "data": {
            "text/plain": [
              "ph                 491\n",
              "Hardness             0\n",
              "Solids               0\n",
              "Chloramines          0\n",
              "Sulfate            781\n",
              "Conductivity         0\n",
              "Organic_carbon       0\n",
              "Trihalomethanes    162\n",
              "Turbidity            0\n",
              "Potability           0\n",
              "dtype: int64"
            ]
          },
          "metadata": {},
          "execution_count": 105
        }
      ],
      "source": [
        "print(\"Cantidad de valores nulos por columna\\n\")\n",
        "data.isna().sum()"
      ]
    },
    {
      "cell_type": "markdown",
      "metadata": {
        "id": "k_ntG5tg9DP2"
      },
      "source": [
        "**Reemplazando los valores nulos**"
      ]
    },
    {
      "cell_type": "code",
      "execution_count": null,
      "metadata": {
        "colab": {
          "base_uri": "https://localhost:8080/",
          "height": 282
        },
        "id": "lnfP-kp2fsVe",
        "outputId": "6a818e3e-efd8-4291-add9-e4c8c1c85f20"
      },
      "outputs": [
        {
          "output_type": "execute_result",
          "data": {
            "text/plain": [
              "<matplotlib.axes._subplots.AxesSubplot at 0x7f3216b0fcd0>"
            ]
          },
          "metadata": {},
          "execution_count": 106
        },
        {
          "output_type": "display_data",
          "data": {
            "image/png": "[encoded data removed]",
            "text/plain": [
              "<Figure size 432x288 with 1 Axes>"
            ]
          },
          "metadata": {
            "needs_background": "light"
          }
        }
      ],
      "source": [
        "sns.boxplot(data=data[data.columns[0]])"
      ]
    },
    {
      "cell_type": "code",
      "execution_count": null,
      "metadata": {
        "colab": {
          "base_uri": "https://localhost:8080/",
          "height": 282
        },
        "id": "HQtYH0XzjyHV",
        "outputId": "92870367-cabb-44db-83bb-5b982b4ce2e9"
      },
      "outputs": [
        {
          "output_type": "execute_result",
          "data": {
            "text/plain": [
              "<matplotlib.axes._subplots.AxesSubplot at 0x7f3216a88ad0>"
            ]
          },
          "metadata": {},
          "execution_count": 107
        },
        {
          "output_type": "display_data",
          "data": {
            "image/png": "[encoded data removed]",
            "text/plain": [
              "<Figure size 432x288 with 1 Axes>"
            ]
          },
          "metadata": {
            "needs_background": "light"
          }
        }
      ],
      "source": [
        "sns.boxplot(data=data[data.columns[4]])"
      ]
    },
    {
      "cell_type": "code",
      "execution_count": null,
      "metadata": {
        "colab": {
          "base_uri": "https://localhost:8080/",
          "height": 282
        },
        "id": "gydAt3hBjz63",
        "outputId": "d0210477-b27a-49dd-e542-96a90dde9845"
      },
      "outputs": [
        {
          "output_type": "execute_result",
          "data": {
            "text/plain": [
              "<matplotlib.axes._subplots.AxesSubplot at 0x7f32169f6590>"
            ]
          },
          "metadata": {},
          "execution_count": 108
        },
        {
          "output_type": "display_data",
          "data": {
            "image/png": "[encoded data removed]",
            "text/plain": [
              "<Figure size 432x288 with 1 Axes>"
            ]
          },
          "metadata": {
            "needs_background": "light"
          }
        }
      ],
      "source": [
        "sns.boxplot(data=data[data.columns[7]])"
      ]
    },
    {
      "cell_type": "markdown",
      "metadata": {
        "id": "xszdA2Yr387w"
      },
      "source": [
        "Se observa que existen outliers por lo que es conveniente reemplazar los valores vacíos por la mediana correspondiente a los datos de las columnas\n"
      ]
    },
    {
      "cell_type": "code",
      "execution_count": null,
      "metadata": {
        "id": "hwjlccK8i866"
      },
      "outputs": [],
      "source": [
        "list_medianas = data.median()"
      ]
    },
    {
      "cell_type": "code",
      "execution_count": null,
      "metadata": {
        "colab": {
          "base_uri": "https://localhost:8080/",
          "height": 423
        },
        "id": "It_rGbTlg6k0",
        "outputId": "6aa465d0-b965-48f3-b81c-44b744da3667"
      },
      "outputs": [
        {
          "output_type": "execute_result",
          "data": {
            "text/html": [
              "\n",
              "  <div id=\"df-6a94ae51-f8ec-4cbc-96bf-eb779cd78153\">\n",
              "    <div class=\"colab-df-container\">\n",
              "      <div>\n",
              "<style scoped>\n",
              "    .dataframe tbody tr th:only-of-type {\n",
              "        vertical-align: middle;\n",
              "    }\n",
              "\n",
              "    .dataframe tbody tr th {\n",
              "        vertical-align: top;\n",
              "    }\n",
              "\n",
              "    .dataframe thead th {\n",
              "        text-align: right;\n",
              "    }\n",
              "</style>\n",
              "<table border=\"1\" class=\"dataframe\">\n",
              "  <thead>\n",
              "    <tr style=\"text-align: right;\">\n",
              "      <th></th>\n",
              "      <th>ph</th>\n",
              "      <th>Hardness</th>\n",
              "      <th>Solids</th>\n",
              "      <th>Chloramines</th>\n",
              "      <th>Sulfate</th>\n",
              "      <th>Conductivity</th>\n",
              "      <th>Organic_carbon</th>\n",
              "      <th>Trihalomethanes</th>\n",
              "      <th>Turbidity</th>\n",
              "      <th>Potability</th>\n",
              "    </tr>\n",
              "  </thead>\n",
              "  <tbody>\n",
              "    <tr>\n",
              "      <th>0</th>\n",
              "      <td>7.036752</td>\n",
              "      <td>204.890455</td>\n",
              "      <td>20791.318981</td>\n",
              "      <td>7.300212</td>\n",
              "      <td>368.516441</td>\n",
              "      <td>564.308654</td>\n",
              "      <td>10.379783</td>\n",
              "      <td>86.990970</td>\n",
              "      <td>2.963135</td>\n",
              "      <td>0</td>\n",
              "    </tr>\n",
              "    <tr>\n",
              "      <th>1</th>\n",
              "      <td>3.716080</td>\n",
              "      <td>129.422921</td>\n",
              "      <td>18630.057858</td>\n",
              "      <td>6.635246</td>\n",
              "      <td>333.073546</td>\n",
              "      <td>592.885359</td>\n",
              "      <td>15.180013</td>\n",
              "      <td>56.329076</td>\n",
              "      <td>4.500656</td>\n",
              "      <td>0</td>\n",
              "    </tr>\n",
              "    <tr>\n",
              "      <th>2</th>\n",
              "      <td>8.099124</td>\n",
              "      <td>224.236259</td>\n",
              "      <td>19909.541732</td>\n",
              "      <td>9.275884</td>\n",
              "      <td>333.073546</td>\n",
              "      <td>418.606213</td>\n",
              "      <td>16.868637</td>\n",
              "      <td>66.420093</td>\n",
              "      <td>3.055934</td>\n",
              "      <td>0</td>\n",
              "    </tr>\n",
              "    <tr>\n",
              "      <th>3</th>\n",
              "      <td>8.316766</td>\n",
              "      <td>214.373394</td>\n",
              "      <td>22018.417441</td>\n",
              "      <td>8.059332</td>\n",
              "      <td>356.886136</td>\n",
              "      <td>363.266516</td>\n",
              "      <td>18.436524</td>\n",
              "      <td>100.341674</td>\n",
              "      <td>4.628771</td>\n",
              "      <td>0</td>\n",
              "    </tr>\n",
              "    <tr>\n",
              "      <th>4</th>\n",
              "      <td>9.092223</td>\n",
              "      <td>181.101509</td>\n",
              "      <td>17978.986339</td>\n",
              "      <td>6.546600</td>\n",
              "      <td>310.135738</td>\n",
              "      <td>398.410813</td>\n",
              "      <td>11.558279</td>\n",
              "      <td>31.997993</td>\n",
              "      <td>4.075075</td>\n",
              "      <td>0</td>\n",
              "    </tr>\n",
              "    <tr>\n",
              "      <th>...</th>\n",
              "      <td>...</td>\n",
              "      <td>...</td>\n",
              "      <td>...</td>\n",
              "      <td>...</td>\n",
              "      <td>...</td>\n",
              "      <td>...</td>\n",
              "      <td>...</td>\n",
              "      <td>...</td>\n",
              "      <td>...</td>\n",
              "      <td>...</td>\n",
              "    </tr>\n",
              "    <tr>\n",
              "      <th>3271</th>\n",
              "      <td>4.668102</td>\n",
              "      <td>193.681735</td>\n",
              "      <td>47580.991603</td>\n",
              "      <td>7.166639</td>\n",
              "      <td>359.948574</td>\n",
              "      <td>526.424171</td>\n",
              "      <td>13.894419</td>\n",
              "      <td>66.687695</td>\n",
              "      <td>4.435821</td>\n",
              "      <td>1</td>\n",
              "    </tr>\n",
              "    <tr>\n",
              "      <th>3272</th>\n",
              "      <td>7.808856</td>\n",
              "      <td>193.553212</td>\n",
              "      <td>17329.802160</td>\n",
              "      <td>8.061362</td>\n",
              "      <td>333.073546</td>\n",
              "      <td>392.449580</td>\n",
              "      <td>19.903225</td>\n",
              "      <td>66.622485</td>\n",
              "      <td>2.798243</td>\n",
              "      <td>1</td>\n",
              "    </tr>\n",
              "    <tr>\n",
              "      <th>3273</th>\n",
              "      <td>9.419510</td>\n",
              "      <td>175.762646</td>\n",
              "      <td>33155.578218</td>\n",
              "      <td>7.350233</td>\n",
              "      <td>333.073546</td>\n",
              "      <td>432.044783</td>\n",
              "      <td>11.039070</td>\n",
              "      <td>69.845400</td>\n",
              "      <td>3.298875</td>\n",
              "      <td>1</td>\n",
              "    </tr>\n",
              "    <tr>\n",
              "      <th>3274</th>\n",
              "      <td>5.126763</td>\n",
              "      <td>230.603758</td>\n",
              "      <td>11983.869376</td>\n",
              "      <td>6.303357</td>\n",
              "      <td>333.073546</td>\n",
              "      <td>402.883113</td>\n",
              "      <td>11.168946</td>\n",
              "      <td>77.488213</td>\n",
              "      <td>4.708658</td>\n",
              "      <td>1</td>\n",
              "    </tr>\n",
              "    <tr>\n",
              "      <th>3275</th>\n",
              "      <td>7.874671</td>\n",
              "      <td>195.102299</td>\n",
              "      <td>17404.177061</td>\n",
              "      <td>7.509306</td>\n",
              "      <td>333.073546</td>\n",
              "      <td>327.459760</td>\n",
              "      <td>16.140368</td>\n",
              "      <td>78.698446</td>\n",
              "      <td>2.309149</td>\n",
              "      <td>1</td>\n",
              "    </tr>\n",
              "  </tbody>\n",
              "</table>\n",
              "<p>3276 rows × 10 columns</p>\n",
              "</div>\n",
              "      <button class=\"colab-df-convert\" onclick=\"convertToInteractive('df-6a94ae51-f8ec-4cbc-96bf-eb779cd78153')\"\n",
              "              title=\"Convert this dataframe to an interactive table.\"\n",
              "              style=\"display:none;\">\n",
              "        \n",
              "  <svg xmlns=\"http://www.w3.org/2000/svg\" height=\"24px\"viewBox=\"0 0 24 24\"\n",
              "       width=\"24px\">\n",
              "    <path d=\"M0 0h24v24H0V0z\" fill=\"none\"/>\n",
              "    <path d=\"M18.56 5.44l.94 2.06.94-2.06 2.06-.94-2.06-.94-.94-2.06-.94 2.06-2.06.94zm-11 1L8.5 8.5l.94-2.06 2.06-.94-2.06-.94L8.5 2.5l-.94 2.06-2.06.94zm10 10l.94 2.06.94-2.06 2.06-.94-2.06-.94-.94-2.06-.94 2.06-2.06.94z\"/><path d=\"M17.41 7.96l-1.37-1.37c-.4-.4-.92-.59-1.43-.59-.52 0-1.04.2-1.43.59L10.3 9.45l-7.72 7.72c-.78.78-.78 2.05 0 2.83L4 21.41c.39.39.9.59 1.41.59.51 0 1.02-.2 1.41-.59l7.78-7.78 2.81-2.81c.8-.78.8-2.07 0-2.86zM5.41 20L4 18.59l7.72-7.72 1.47 1.35L5.41 20z\"/>\n",
              "  </svg>\n",
              "      </button>\n",
              "      \n",
              "  <style>\n",
              "    .colab-df-container {\n",
              "      display:flex;\n",
              "      flex-wrap:wrap;\n",
              "      gap: 12px;\n",
              "    }\n",
              "\n",
              "    .colab-df-convert {\n",
              "      background-color: #E8F0FE;\n",
              "      border: none;\n",
              "      border-radius: 50%;\n",
              "      cursor: pointer;\n",
              "      display: none;\n",
              "      fill: #1967D2;\n",
              "      height: 32px;\n",
              "      padding: 0 0 0 0;\n",
              "      width: 32px;\n",
              "    }\n",
              "\n",
              "    .colab-df-convert:hover {\n",
              "      background-color: #E2EBFA;\n",
              "      box-shadow: 0px 1px 2px rgba(60, 64, 67, 0.3), 0px 1px 3px 1px rgba(60, 64, 67, 0.15);\n",
              "      fill: #174EA6;\n",
              "    }\n",
              "\n",
              "    [theme=dark] .colab-df-convert {\n",
              "      background-color: #3B4455;\n",
              "      fill: #D2E3FC;\n",
              "    }\n",
              "\n",
              "    [theme=dark] .colab-df-convert:hover {\n",
              "      background-color: #434B5C;\n",
              "      box-shadow: 0px 1px 3px 1px rgba(0, 0, 0, 0.15);\n",
              "      filter: drop-shadow(0px 1px 2px rgba(0, 0, 0, 0.3));\n",
              "      fill: #FFFFFF;\n",
              "    }\n",
              "  </style>\n",
              "\n",
              "      <script>\n",
              "        const buttonEl =\n",
              "          document.querySelector('#df-6a94ae51-f8ec-4cbc-96bf-eb779cd78153 button.colab-df-convert');\n",
              "        buttonEl.style.display =\n",
              "          google.colab.kernel.accessAllowed ? 'block' : 'none';\n",
              "\n",
              "        async function convertToInteractive(key) {\n",
              "          const element = document.querySelector('#df-6a94ae51-f8ec-4cbc-96bf-eb779cd78153');\n",
              "          const dataTable =\n",
              "            await google.colab.kernel.invokeFunction('convertToInteractive',\n",
              "                                                     [key], {});\n",
              "          if (!dataTable) return;\n",
              "\n",
              "          const docLinkHtml = 'Like what you see? Visit the ' +\n",
              "            '<a target=\"_blank\" href=https://colab.research.google.com/notebooks/data_table.ipynb>data table notebook</a>'\n",
              "            + ' to learn more about interactive tables.';\n",
              "          element.innerHTML = '';\n",
              "          dataTable['output_type'] = 'display_data';\n",
              "          await google.colab.output.renderOutput(dataTable, element);\n",
              "          const docLink = document.createElement('div');\n",
              "          docLink.innerHTML = docLinkHtml;\n",
              "          element.appendChild(docLink);\n",
              "        }\n",
              "      </script>\n",
              "    </div>\n",
              "  </div>\n",
              "  "
            ],
            "text/plain": [
              "            ph    Hardness  ...  Turbidity  Potability\n",
              "0     7.036752  204.890455  ...   2.963135           0\n",
              "1     3.716080  129.422921  ...   4.500656           0\n",
              "2     8.099124  224.236259  ...   3.055934           0\n",
              "3     8.316766  214.373394  ...   4.628771           0\n",
              "4     9.092223  181.101509  ...   4.075075           0\n",
              "...        ...         ...  ...        ...         ...\n",
              "3271  4.668102  193.681735  ...   4.435821           1\n",
              "3272  7.808856  193.553212  ...   2.798243           1\n",
              "3273  9.419510  175.762646  ...   3.298875           1\n",
              "3274  5.126763  230.603758  ...   4.708658           1\n",
              "3275  7.874671  195.102299  ...   2.309149           1\n",
              "\n",
              "[3276 rows x 10 columns]"
            ]
          },
          "metadata": {},
          "execution_count": 110
        }
      ],
      "source": [
        "data.fillna(list_medianas, inplace = True)\n",
        "data"
      ]
    },
    {
      "cell_type": "code",
      "execution_count": null,
      "metadata": {
        "colab": {
          "base_uri": "https://localhost:8080/"
        },
        "id": "-1id3N5gEz2i",
        "outputId": "c3901ac1-1aa8-4d75-8fe3-130333b744a5"
      },
      "outputs": [
        {
          "output_type": "stream",
          "name": "stdout",
          "text": [
            "Cantidad de valores nulos por columna\n",
            "\n"
          ]
        },
        {
          "output_type": "execute_result",
          "data": {
            "text/plain": [
              "ph                 0\n",
              "Hardness           0\n",
              "Solids             0\n",
              "Chloramines        0\n",
              "Sulfate            0\n",
              "Conductivity       0\n",
              "Organic_carbon     0\n",
              "Trihalomethanes    0\n",
              "Turbidity          0\n",
              "Potability         0\n",
              "dtype: int64"
            ]
          },
          "metadata": {},
          "execution_count": 111
        }
      ],
      "source": [
        "print(\"Cantidad de valores nulos por columna\\n\")\n",
        "data.isna().sum()"
      ]
    },
    {
      "cell_type": "markdown",
      "metadata": {
        "id": "XGYCzj9Z4Ovq"
      },
      "source": [
        "Notamos que ya no hay valores nulos en el dataset"
      ]
    },
    {
      "cell_type": "markdown",
      "source": [
        "**Normalizamos los datos del dataset**"
      ],
      "metadata": {
        "id": "g7fSpaaJdClV"
      }
    },
    {
      "cell_type": "code",
      "source": [
        "from sklearn.preprocessing import normalize"
      ],
      "metadata": {
        "id": "BrsoA2NTujYa"
      },
      "execution_count": null,
      "outputs": []
    },
    {
      "cell_type": "code",
      "source": [
        "data_to_norm = [data['ph'],data['Hardness'], data['Solids'], data['Chloramines'], data['Sulfate'], data['Conductivity'], data['Organic_carbon'], data['Trihalomethanes'], data['Turbidity']]"
      ],
      "metadata": {
        "id": "ZHNpqfT3ujLi"
      },
      "execution_count": null,
      "outputs": []
    },
    {
      "cell_type": "code",
      "source": [
        "data_normalizada  = normalize(data_to_norm)"
      ],
      "metadata": {
        "id": "MtqdN0T-ui_4"
      },
      "execution_count": null,
      "outputs": []
    },
    {
      "cell_type": "code",
      "source": [
        "data = data.assign(ph = data_normalizada[0]) \n",
        "data = data.assign(Hardness = data_normalizada[1]) \n",
        "data = data.assign(Solids = data_normalizada[2]) \n",
        "data = data.assign(Chloramines = data_normalizada[3]) \n",
        "data = data.assign(Sulfate = data_normalizada[4]) \n",
        "data = data.assign(Conductivity = data_normalizada[5]) \n",
        "data = data.assign(Organic_carbon = data_normalizada[6]) \n",
        "data = data.assign(Trihalomethanes = data_normalizada[7]) \n",
        "data = data.assign(Turbidity = data_normalizada[8]) \n",
        "data.head(5)"
      ],
      "metadata": {
        "colab": {
          "base_uri": "https://localhost:8080/",
          "height": 206
        },
        "id": "PjksBIPsuuMZ",
        "outputId": "0e5c459c-cef7-4f53-dafa-700639eae22e"
      },
      "execution_count": null,
      "outputs": [
        {
          "output_type": "execute_result",
          "data": {
            "text/html": [
              "\n",
              "  <div id=\"df-85dbce82-fcf3-40a7-b528-77c057e2d040\">\n",
              "    <div class=\"colab-df-container\">\n",
              "      <div>\n",
              "<style scoped>\n",
              "    .dataframe tbody tr th:only-of-type {\n",
              "        vertical-align: middle;\n",
              "    }\n",
              "\n",
              "    .dataframe tbody tr th {\n",
              "        vertical-align: top;\n",
              "    }\n",
              "\n",
              "    .dataframe thead th {\n",
              "        text-align: right;\n",
              "    }\n",
              "</style>\n",
              "<table border=\"1\" class=\"dataframe\">\n",
              "  <thead>\n",
              "    <tr style=\"text-align: right;\">\n",
              "      <th></th>\n",
              "      <th>ph</th>\n",
              "      <th>Hardness</th>\n",
              "      <th>Solids</th>\n",
              "      <th>Chloramines</th>\n",
              "      <th>Sulfate</th>\n",
              "      <th>Conductivity</th>\n",
              "      <th>Organic_carbon</th>\n",
              "      <th>Trihalomethanes</th>\n",
              "      <th>Turbidity</th>\n",
              "      <th>Potability</th>\n",
              "    </tr>\n",
              "  </thead>\n",
              "  <tbody>\n",
              "    <tr>\n",
              "      <th>0</th>\n",
              "      <td>0.017016</td>\n",
              "      <td>0.017979</td>\n",
              "      <td>0.015330</td>\n",
              "      <td>0.017481</td>\n",
              "      <td>0.019187</td>\n",
              "      <td>0.022728</td>\n",
              "      <td>0.012368</td>\n",
              "      <td>0.022268</td>\n",
              "      <td>0.012806</td>\n",
              "      <td>0</td>\n",
              "    </tr>\n",
              "    <tr>\n",
              "      <th>1</th>\n",
              "      <td>0.008986</td>\n",
              "      <td>0.011357</td>\n",
              "      <td>0.013736</td>\n",
              "      <td>0.015889</td>\n",
              "      <td>0.017342</td>\n",
              "      <td>0.023879</td>\n",
              "      <td>0.018088</td>\n",
              "      <td>0.014419</td>\n",
              "      <td>0.019450</td>\n",
              "      <td>0</td>\n",
              "    </tr>\n",
              "    <tr>\n",
              "      <th>2</th>\n",
              "      <td>0.019584</td>\n",
              "      <td>0.019677</td>\n",
              "      <td>0.014680</td>\n",
              "      <td>0.022212</td>\n",
              "      <td>0.017342</td>\n",
              "      <td>0.016860</td>\n",
              "      <td>0.020100</td>\n",
              "      <td>0.017002</td>\n",
              "      <td>0.013207</td>\n",
              "      <td>0</td>\n",
              "    </tr>\n",
              "    <tr>\n",
              "      <th>3</th>\n",
              "      <td>0.020111</td>\n",
              "      <td>0.018811</td>\n",
              "      <td>0.016235</td>\n",
              "      <td>0.019299</td>\n",
              "      <td>0.018582</td>\n",
              "      <td>0.014631</td>\n",
              "      <td>0.021968</td>\n",
              "      <td>0.025685</td>\n",
              "      <td>0.020004</td>\n",
              "      <td>0</td>\n",
              "    </tr>\n",
              "    <tr>\n",
              "      <th>4</th>\n",
              "      <td>0.021986</td>\n",
              "      <td>0.015892</td>\n",
              "      <td>0.013256</td>\n",
              "      <td>0.015677</td>\n",
              "      <td>0.016148</td>\n",
              "      <td>0.016046</td>\n",
              "      <td>0.013772</td>\n",
              "      <td>0.008191</td>\n",
              "      <td>0.017611</td>\n",
              "      <td>0</td>\n",
              "    </tr>\n",
              "  </tbody>\n",
              "</table>\n",
              "</div>\n",
              "      <button class=\"colab-df-convert\" onclick=\"convertToInteractive('df-85dbce82-fcf3-40a7-b528-77c057e2d040')\"\n",
              "              title=\"Convert this dataframe to an interactive table.\"\n",
              "              style=\"display:none;\">\n",
              "        \n",
              "  <svg xmlns=\"http://www.w3.org/2000/svg\" height=\"24px\"viewBox=\"0 0 24 24\"\n",
              "       width=\"24px\">\n",
              "    <path d=\"M0 0h24v24H0V0z\" fill=\"none\"/>\n",
              "    <path d=\"M18.56 5.44l.94 2.06.94-2.06 2.06-.94-2.06-.94-.94-2.06-.94 2.06-2.06.94zm-11 1L8.5 8.5l.94-2.06 2.06-.94-2.06-.94L8.5 2.5l-.94 2.06-2.06.94zm10 10l.94 2.06.94-2.06 2.06-.94-2.06-.94-.94-2.06-.94 2.06-2.06.94z\"/><path d=\"M17.41 7.96l-1.37-1.37c-.4-.4-.92-.59-1.43-.59-.52 0-1.04.2-1.43.59L10.3 9.45l-7.72 7.72c-.78.78-.78 2.05 0 2.83L4 21.41c.39.39.9.59 1.41.59.51 0 1.02-.2 1.41-.59l7.78-7.78 2.81-2.81c.8-.78.8-2.07 0-2.86zM5.41 20L4 18.59l7.72-7.72 1.47 1.35L5.41 20z\"/>\n",
              "  </svg>\n",
              "      </button>\n",
              "      \n",
              "  <style>\n",
              "    .colab-df-container {\n",
              "      display:flex;\n",
              "      flex-wrap:wrap;\n",
              "      gap: 12px;\n",
              "    }\n",
              "\n",
              "    .colab-df-convert {\n",
              "      background-color: #E8F0FE;\n",
              "      border: none;\n",
              "      border-radius: 50%;\n",
              "      cursor: pointer;\n",
              "      display: none;\n",
              "      fill: #1967D2;\n",
              "      height: 32px;\n",
              "      padding: 0 0 0 0;\n",
              "      width: 32px;\n",
              "    }\n",
              "\n",
              "    .colab-df-convert:hover {\n",
              "      background-color: #E2EBFA;\n",
              "      box-shadow: 0px 1px 2px rgba(60, 64, 67, 0.3), 0px 1px 3px 1px rgba(60, 64, 67, 0.15);\n",
              "      fill: #174EA6;\n",
              "    }\n",
              "\n",
              "    [theme=dark] .colab-df-convert {\n",
              "      background-color: #3B4455;\n",
              "      fill: #D2E3FC;\n",
              "    }\n",
              "\n",
              "    [theme=dark] .colab-df-convert:hover {\n",
              "      background-color: #434B5C;\n",
              "      box-shadow: 0px 1px 3px 1px rgba(0, 0, 0, 0.15);\n",
              "      filter: drop-shadow(0px 1px 2px rgba(0, 0, 0, 0.3));\n",
              "      fill: #FFFFFF;\n",
              "    }\n",
              "  </style>\n",
              "\n",
              "      <script>\n",
              "        const buttonEl =\n",
              "          document.querySelector('#df-85dbce82-fcf3-40a7-b528-77c057e2d040 button.colab-df-convert');\n",
              "        buttonEl.style.display =\n",
              "          google.colab.kernel.accessAllowed ? 'block' : 'none';\n",
              "\n",
              "        async function convertToInteractive(key) {\n",
              "          const element = document.querySelector('#df-85dbce82-fcf3-40a7-b528-77c057e2d040');\n",
              "          const dataTable =\n",
              "            await google.colab.kernel.invokeFunction('convertToInteractive',\n",
              "                                                     [key], {});\n",
              "          if (!dataTable) return;\n",
              "\n",
              "          const docLinkHtml = 'Like what you see? Visit the ' +\n",
              "            '<a target=\"_blank\" href=https://colab.research.google.com/notebooks/data_table.ipynb>data table notebook</a>'\n",
              "            + ' to learn more about interactive tables.';\n",
              "          element.innerHTML = '';\n",
              "          dataTable['output_type'] = 'display_data';\n",
              "          await google.colab.output.renderOutput(dataTable, element);\n",
              "          const docLink = document.createElement('div');\n",
              "          docLink.innerHTML = docLinkHtml;\n",
              "          element.appendChild(docLink);\n",
              "        }\n",
              "      </script>\n",
              "    </div>\n",
              "  </div>\n",
              "  "
            ],
            "text/plain": [
              "         ph  Hardness    Solids  ...  Trihalomethanes  Turbidity  Potability\n",
              "0  0.017016  0.017979  0.015330  ...         0.022268   0.012806           0\n",
              "1  0.008986  0.011357  0.013736  ...         0.014419   0.019450           0\n",
              "2  0.019584  0.019677  0.014680  ...         0.017002   0.013207           0\n",
              "3  0.020111  0.018811  0.016235  ...         0.025685   0.020004           0\n",
              "4  0.021986  0.015892  0.013256  ...         0.008191   0.017611           0\n",
              "\n",
              "[5 rows x 10 columns]"
            ]
          },
          "metadata": {},
          "execution_count": 115
        }
      ]
    },
    {
      "cell_type": "markdown",
      "metadata": {
        "id": "Wwbm5CyJA-sh"
      },
      "source": [
        "**Detectando outliers**"
      ]
    },
    {
      "cell_type": "code",
      "source": [
        "data.drop(['Potability'],axis=1).plot(kind = 'box',\n",
        "              figsize = (18,8)\n",
        ")\n",
        "plt.grid()"
      ],
      "metadata": {
        "colab": {
          "base_uri": "https://localhost:8080/",
          "height": 484
        },
        "id": "aAcR10ClcKVW",
        "outputId": "16c4d49a-855f-487b-e68b-7e2a91dded78"
      },
      "execution_count": null,
      "outputs": [
        {
          "output_type": "display_data",
          "data": {
            "image/png": "[encoded data removed]",
            "text/plain": [
              "<Figure size 1296x576 with 1 Axes>"
            ]
          },
          "metadata": {
            "needs_background": "light"
          }
        }
      ]
    },
    {
      "cell_type": "code",
      "execution_count": null,
      "metadata": {
        "colab": {
          "base_uri": "https://localhost:8080/"
        },
        "id": "N6W3AmozFLtp",
        "outputId": "f2a6db9b-f8bf-48db-d4e9-ff9dee2a348f"
      },
      "outputs": [
        {
          "output_type": "stream",
          "name": "stdout",
          "text": [
            "Valores atípicos identificados en ph : 103\n",
            "Valores atípicos identificados en Hardness : 90\n",
            "Valores atípicos identificados en Solids : 127\n",
            "Valores atípicos identificados en Chloramines : 72\n",
            "Valores atípicos identificados en Sulfate : 112\n",
            "Valores atípicos identificados en Conductivity : 96\n",
            "Valores atípicos identificados en Organic_carbon : 74\n",
            "Valores atípicos identificados en Trihalomethanes : 78\n",
            "Valores atípicos identificados en Turbidity : 67\n"
          ]
        }
      ],
      "source": [
        "for col in data.columns[0:9]:\n",
        "  std = 2*data[col].std() + data[col].mean()\n",
        "  std2 = 2*data[col].std() - data[col].mean()\n",
        "  print('Valores atípicos identificados en',col,\":\", len([x for x in data[col] if x < std2 or x > std]))\n"
      ]
    },
    {
      "cell_type": "markdown",
      "metadata": {
        "id": "PrC_X9MIBCVO"
      },
      "source": [
        "**Eliminando los outliers**"
      ]
    },
    {
      "cell_type": "markdown",
      "source": [
        "Observamos que en la variable ph hay una mayor cantidad de outliers que se hayan muy alejados de la media. "
      ],
      "metadata": {
        "id": "U4WnS7hR2dj3"
      }
    },
    {
      "cell_type": "markdown",
      "source": [
        "Para ello tomamos como criterio que se alejen 2 desviaciones estándar de la media"
      ],
      "metadata": {
        "id": "yksEct-GXVTJ"
      }
    },
    {
      "cell_type": "code",
      "source": [
        "data['ph'].plot(kind = 'box',\n",
        "              figsize = (18,8)\n",
        ")\n",
        "plt.grid()"
      ],
      "metadata": {
        "colab": {
          "base_uri": "https://localhost:8080/",
          "height": 483
        },
        "id": "6KmSKfIoZMIN",
        "outputId": "06129538-f4a4-4124-9e35-1e165e869eb9"
      },
      "execution_count": null,
      "outputs": [
        {
          "output_type": "display_data",
          "data": {
            "image/png": "[encoded data removed]",
            "text/plain": [
              "<Figure size 1296x576 with 1 Axes>"
            ]
          },
          "metadata": {
            "needs_background": "light"
          }
        }
      ]
    },
    {
      "cell_type": "code",
      "source": [
        "std =  data['ph'].mean() + 2*data['ph'].std() \n",
        "std2 = data['ph'].mean() - 2*data['ph'].std()"
      ],
      "metadata": {
        "id": "Na_nJbptYz84"
      },
      "execution_count": null,
      "outputs": []
    },
    {
      "cell_type": "code",
      "execution_count": null,
      "metadata": {
        "id": "9isab7ZGY5FH"
      },
      "outputs": [],
      "source": [
        "es_outlier = (data.ph > std2) & (data.ph < std)\n",
        "data = data[es_outlier]"
      ]
    },
    {
      "cell_type": "code",
      "execution_count": null,
      "metadata": {
        "colab": {
          "base_uri": "https://localhost:8080/",
          "height": 483
        },
        "outputId": "162348b8-f309-4cb8-9f4f-9a31da012d25",
        "id": "fGXZOz7oY9Td"
      },
      "outputs": [
        {
          "output_type": "display_data",
          "data": {
            "image/png": "[encoded data removed]",
            "text/plain": [
              "<Figure size 1296x576 with 1 Axes>"
            ]
          },
          "metadata": {
            "needs_background": "light"
          }
        }
      ],
      "source": [
        "data['ph'].plot(kind = 'box',\n",
        "              figsize = (18,8)\n",
        ")\n",
        "plt.grid()"
      ]
    },
    {
      "cell_type": "markdown",
      "metadata": {
        "id": "yWPJOQ-_uDBD"
      },
      "source": [
        "Particionamiento del dataset"
      ]
    },
    {
      "cell_type": "code",
      "execution_count": null,
      "metadata": {
        "id": "hk-geTZl3WiU"
      },
      "outputs": [],
      "source": [
        "X = data.drop('Potability',axis=1)\n",
        "y = data['Potability']"
      ]
    },
    {
      "cell_type": "code",
      "execution_count": null,
      "metadata": {
        "id": "Fm8MI3SA3iX2"
      },
      "outputs": [],
      "source": [
        "#Realizamos la división de ambas variables\n",
        "from sklearn.model_selection import train_test_split\n",
        "X_train, X_test, y_train, y_test= train_test_split(X,y,test_size = 0.15,random_state=1) #Separa el 15% de la data para generar las predicciones"
      ]
    },
    {
      "cell_type": "code",
      "execution_count": null,
      "metadata": {
        "colab": {
          "base_uri": "https://localhost:8080/"
        },
        "id": "hp0rfI653r6K",
        "outputId": "9be0bd19-b7ee-49b4-87aa-cd0db485c38f"
      },
      "outputs": [
        {
          "output_type": "stream",
          "name": "stdout",
          "text": [
            "Para el X_train: (2618, 9) y para el y_train (2618,)\n",
            "Para el X_test: (462, 9) y para el y_test (462,)\n"
          ]
        }
      ],
      "source": [
        "print('Para el X_train:', X_train.shape, 'y para el y_train',y_train.shape)\n",
        "print('Para el X_test:',X_test.shape,'y para el y_test',y_test.shape)"
      ]
    },
    {
      "cell_type": "markdown",
      "source": [
        "#2. Modelo Random Forest"
      ],
      "metadata": {
        "id": "_p197H_8dZ0R"
      }
    },
    {
      "cell_type": "markdown",
      "source": [
        "Con particionamiento simple (empleando X_train, X_test, y_train e y_test)"
      ],
      "metadata": {
        "id": "pZliHchgdgze"
      }
    },
    {
      "cell_type": "code",
      "source": [
        "from sklearn.ensemble import RandomForestClassifier \n",
        "rf = RandomForestClassifier(criterion='gini',n_jobs = -1,max_depth=3,random_state=1) \n",
        "rf.fit(X_train,y_train) \n",
        "rf_pred = rf.predict(X_test) \n",
        "rf_pred "
      ],
      "metadata": {
        "colab": {
          "base_uri": "https://localhost:8080/"
        },
        "id": "zsvTUMjZdwcf",
        "outputId": "cd183f4a-83a0-4926-d600-2eb4c134677a"
      },
      "execution_count": null,
      "outputs": [
        {
          "output_type": "execute_result",
          "data": {
            "text/plain": [
              "array([0, 1, 0, 0, 0, 0, 0, 0, 0, 0, 0, 0, 0, 0, 0, 0, 0, 0, 0, 0, 0, 0,\n",
              "       0, 0, 0, 0, 0, 0, 0, 1, 0, 0, 0, 0, 0, 0, 0, 0, 0, 0, 0, 0, 1, 0,\n",
              "       0, 0, 0, 0, 0, 0, 0, 0, 0, 0, 0, 0, 0, 0, 0, 0, 0, 0, 0, 0, 0, 0,\n",
              "       0, 0, 0, 0, 0, 0, 0, 0, 0, 0, 0, 0, 0, 0, 0, 0, 0, 0, 0, 0, 0, 0,\n",
              "       0, 0, 0, 0, 0, 0, 0, 0, 0, 0, 0, 0, 0, 0, 0, 0, 0, 0, 0, 0, 0, 0,\n",
              "       0, 0, 0, 0, 0, 0, 0, 0, 0, 0, 0, 0, 0, 0, 0, 0, 0, 0, 0, 0, 0, 0,\n",
              "       0, 0, 0, 0, 0, 0, 0, 0, 0, 0, 0, 0, 0, 0, 0, 0, 0, 0, 0, 0, 0, 0,\n",
              "       0, 0, 0, 0, 0, 0, 0, 0, 0, 0, 0, 0, 0, 0, 0, 0, 0, 0, 0, 0, 0, 0,\n",
              "       0, 0, 0, 0, 0, 0, 0, 0, 0, 0, 0, 0, 0, 0, 0, 0, 0, 0, 0, 0, 0, 0,\n",
              "       0, 0, 0, 0, 0, 0, 0, 0, 0, 0, 0, 0, 0, 0, 0, 0, 0, 0, 0, 0, 0, 0,\n",
              "       0, 0, 0, 0, 0, 0, 0, 0, 0, 0, 0, 0, 0, 0, 0, 0, 0, 0, 0, 0, 0, 0,\n",
              "       0, 0, 0, 0, 0, 0, 0, 0, 0, 0, 1, 0, 0, 0, 0, 0, 0, 0, 0, 0, 0, 0,\n",
              "       1, 0, 1, 0, 0, 1, 0, 0, 0, 0, 0, 0, 0, 0, 0, 0, 0, 0, 0, 0, 0, 0,\n",
              "       0, 0, 0, 0, 0, 0, 0, 0, 0, 0, 0, 0, 0, 0, 0, 0, 0, 0, 0, 0, 0, 0,\n",
              "       0, 0, 0, 0, 0, 0, 1, 0, 0, 0, 0, 0, 0, 0, 0, 0, 0, 0, 0, 0, 0, 0,\n",
              "       0, 0, 0, 0, 1, 0, 0, 0, 0, 1, 0, 0, 0, 0, 0, 0, 0, 0, 1, 0, 0, 0,\n",
              "       0, 0, 1, 0, 0, 0, 0, 0, 0, 0, 0, 0, 0, 0, 0, 0, 0, 0, 0, 1, 0, 0,\n",
              "       0, 0, 0, 0, 0, 0, 0, 0, 0, 0, 0, 0, 0, 0, 0, 0, 0, 1, 0, 0, 1, 0,\n",
              "       0, 0, 0, 1, 0, 0, 0, 0, 0, 0, 0, 0, 0, 0, 0, 0, 0, 0, 0, 0, 0, 0,\n",
              "       0, 0, 0, 0, 0, 0, 0, 0, 0, 0, 0, 0, 0, 0, 0, 0, 0, 0, 0, 0, 0, 0,\n",
              "       0, 0, 0, 0, 0, 0, 0, 0, 0, 0, 0, 0, 0, 0, 0, 0, 0, 0, 0, 1, 0, 0])"
            ]
          },
          "metadata": {},
          "execution_count": 125
        }
      ]
    },
    {
      "cell_type": "markdown",
      "source": [
        "Obtenemos cual es la variable más importante"
      ],
      "metadata": {
        "id": "SNcy91NSotUG"
      }
    },
    {
      "cell_type": "code",
      "source": [
        "pesos = rf.feature_importances_\n",
        "cols = X_train.columns\n",
        "plt.figure(figsize=(8,12))\n",
        "indices = np.argsort(pesos)\n",
        "plt.barh(range(len(indices)), pesos[indices], align = 'center')\n",
        "plt.yticks(range(len(indices)),[cols[i] for i in indices])\n",
        "plt.show()"
      ],
      "metadata": {
        "id": "-WoQUgBjqlzg",
        "colab": {
          "base_uri": "https://localhost:8080/",
          "height": 700
        },
        "outputId": "fa3468c3-f451-4913-9816-0468935c3d2e"
      },
      "execution_count": null,
      "outputs": [
        {
          "output_type": "display_data",
          "data": {
            "image/png": "[encoded data removed]",
            "text/plain": [
              "<Figure size 576x864 with 1 Axes>"
            ]
          },
          "metadata": {
            "needs_background": "light"
          }
        }
      ]
    },
    {
      "cell_type": "code",
      "source": [
        "rf_prob = rf.predict_proba(X_test)[:,1]\n",
        "rf_prob"
      ],
      "metadata": {
        "colab": {
          "base_uri": "https://localhost:8080/"
        },
        "id": "jzTUlRb0d_3V",
        "outputId": "d283ee2c-8820-42a4-8974-e4f924421c14"
      },
      "execution_count": null,
      "outputs": [
        {
          "output_type": "execute_result",
          "data": {
            "text/plain": [
              "array([0.4083165 , 0.53225847, 0.37846495, 0.37483046, 0.37067718,\n",
              "       0.37747671, 0.49291712, 0.34841131, 0.41020927, 0.430588  ,\n",
              "       0.38724736, 0.36839688, 0.48236056, 0.39136765, 0.431198  ,\n",
              "       0.36799951, 0.37714051, 0.36568325, 0.40600838, 0.39274029,\n",
              "       0.37070496, 0.49746825, 0.38390934, 0.36294568, 0.40951054,\n",
              "       0.38597482, 0.46822109, 0.41709446, 0.39866373, 0.51698402,\n",
              "       0.44820118, 0.37537119, 0.38291968, 0.38029152, 0.42359939,\n",
              "       0.38897962, 0.38765629, 0.36667178, 0.43687215, 0.38045521,\n",
              "       0.39380703, 0.37927302, 0.52782455, 0.39763984, 0.4755186 ,\n",
              "       0.3557056 , 0.40491907, 0.38723452, 0.47778583, 0.41731719,\n",
              "       0.37728791, 0.40959428, 0.37785159, 0.36929796, 0.40839888,\n",
              "       0.37558475, 0.3764315 , 0.39093935, 0.41526048, 0.39737566,\n",
              "       0.42042494, 0.39263788, 0.36591617, 0.38367168, 0.35724576,\n",
              "       0.40965166, 0.38638759, 0.38923806, 0.38970111, 0.38028693,\n",
              "       0.44947858, 0.35060193, 0.37439389, 0.3847635 , 0.41018812,\n",
              "       0.37407556, 0.37101512, 0.4219998 , 0.40727393, 0.354997  ,\n",
              "       0.41013166, 0.38200577, 0.38498339, 0.39643147, 0.37736159,\n",
              "       0.41378047, 0.34704377, 0.39733617, 0.38352186, 0.41091539,\n",
              "       0.41440393, 0.45083026, 0.39762655, 0.38831252, 0.40838531,\n",
              "       0.41156726, 0.38173496, 0.41614534, 0.38053695, 0.37409289,\n",
              "       0.38564791, 0.37112908, 0.39001081, 0.48799113, 0.39937927,\n",
              "       0.39713182, 0.3736176 , 0.46062393, 0.41628547, 0.35134467,\n",
              "       0.38019692, 0.40590096, 0.37752289, 0.40022036, 0.44903141,\n",
              "       0.48050113, 0.37782588, 0.37569029, 0.39792763, 0.38552286,\n",
              "       0.35582844, 0.36807362, 0.38514845, 0.39114735, 0.35091328,\n",
              "       0.45933233, 0.40071553, 0.34866786, 0.43274126, 0.46513592,\n",
              "       0.3886842 , 0.34479484, 0.37353551, 0.3946216 , 0.37370849,\n",
              "       0.42533868, 0.40380407, 0.377495  , 0.41240189, 0.35339925,\n",
              "       0.36787417, 0.37448593, 0.44261605, 0.44249652, 0.38291166,\n",
              "       0.41863962, 0.39854182, 0.39558905, 0.38409328, 0.39231339,\n",
              "       0.35858024, 0.39136276, 0.3862595 , 0.40001347, 0.39345565,\n",
              "       0.43252422, 0.38218348, 0.3718172 , 0.38186882, 0.4317085 ,\n",
              "       0.42924377, 0.38259565, 0.45762952, 0.39110339, 0.42071719,\n",
              "       0.43338069, 0.38406852, 0.39151977, 0.38370633, 0.35041754,\n",
              "       0.39855712, 0.38245521, 0.35344736, 0.39721387, 0.39846435,\n",
              "       0.49078473, 0.37267832, 0.36323553, 0.37617613, 0.39093582,\n",
              "       0.44970492, 0.34644652, 0.37748481, 0.40709689, 0.3779703 ,\n",
              "       0.38319588, 0.37878558, 0.39627101, 0.3702627 , 0.4018382 ,\n",
              "       0.40905585, 0.37165901, 0.3657423 , 0.34997149, 0.37640523,\n",
              "       0.39774118, 0.36620007, 0.38288289, 0.38602521, 0.37072527,\n",
              "       0.44563863, 0.39535899, 0.3877343 , 0.38107662, 0.39358031,\n",
              "       0.37899667, 0.36137175, 0.45230779, 0.41515805, 0.37300792,\n",
              "       0.37569753, 0.39229156, 0.46996567, 0.41829757, 0.37638925,\n",
              "       0.40776279, 0.3559965 , 0.46557614, 0.41680172, 0.38512972,\n",
              "       0.39290586, 0.41620932, 0.41402676, 0.39273809, 0.39330607,\n",
              "       0.37980249, 0.43372426, 0.35036559, 0.37607067, 0.37839298,\n",
              "       0.38269786, 0.36148242, 0.40132243, 0.37999343, 0.38304154,\n",
              "       0.40639554, 0.41149759, 0.39091977, 0.35981251, 0.39556066,\n",
              "       0.38752599, 0.39305142, 0.3816794 , 0.49375096, 0.42113285,\n",
              "       0.39811242, 0.4079343 , 0.37950293, 0.37481895, 0.35967189,\n",
              "       0.37789552, 0.39270685, 0.59197529, 0.38551319, 0.38700376,\n",
              "       0.3778836 , 0.37859906, 0.37948562, 0.44299446, 0.39172797,\n",
              "       0.38526792, 0.43434591, 0.38679677, 0.37569233, 0.54526818,\n",
              "       0.38939835, 0.61920022, 0.41401336, 0.42735503, 0.65539606,\n",
              "       0.39232218, 0.37520224, 0.35772618, 0.37980642, 0.38780326,\n",
              "       0.37629925, 0.37821919, 0.36438228, 0.3881706 , 0.46779751,\n",
              "       0.37852392, 0.40847542, 0.37501124, 0.37036952, 0.36247112,\n",
              "       0.38392511, 0.35873967, 0.42251441, 0.39517331, 0.38508236,\n",
              "       0.39073416, 0.49126147, 0.4335682 , 0.39331886, 0.40370074,\n",
              "       0.35566221, 0.37011949, 0.38285988, 0.44381681, 0.37334805,\n",
              "       0.3795261 , 0.4220077 , 0.40139004, 0.35344523, 0.4000939 ,\n",
              "       0.45904245, 0.37709401, 0.39283949, 0.37468107, 0.37912377,\n",
              "       0.37916116, 0.38796317, 0.39022068, 0.39886606, 0.66262662,\n",
              "       0.37786222, 0.39289988, 0.39538892, 0.34072992, 0.36982473,\n",
              "       0.38953324, 0.38589375, 0.37183002, 0.35622622, 0.44485034,\n",
              "       0.38911333, 0.40064853, 0.38250234, 0.37879245, 0.3720596 ,\n",
              "       0.41894262, 0.37277062, 0.3762314 , 0.44123845, 0.65835123,\n",
              "       0.37718581, 0.37861268, 0.46314106, 0.39636833, 0.57155256,\n",
              "       0.40234453, 0.38500571, 0.41065248, 0.38113718, 0.43971778,\n",
              "       0.37147805, 0.42403423, 0.35756225, 0.56060102, 0.42347173,\n",
              "       0.38836792, 0.46937485, 0.47711484, 0.4260363 , 0.50621741,\n",
              "       0.3844014 , 0.38499458, 0.39219386, 0.44033444, 0.37560384,\n",
              "       0.38290286, 0.39360504, 0.38610808, 0.38935543, 0.38225204,\n",
              "       0.38844529, 0.48407523, 0.40176715, 0.40215503, 0.4449649 ,\n",
              "       0.40843419, 0.53323531, 0.36575263, 0.40707565, 0.35981921,\n",
              "       0.3767746 , 0.33840353, 0.49733647, 0.36977649, 0.38176851,\n",
              "       0.47568011, 0.37469021, 0.39652592, 0.37546149, 0.3699159 ,\n",
              "       0.39967321, 0.3635936 , 0.3796007 , 0.39618724, 0.38762002,\n",
              "       0.37821317, 0.66921518, 0.37699234, 0.45449233, 0.52987121,\n",
              "       0.39005181, 0.37592437, 0.41987652, 0.38101574, 0.63714758,\n",
              "       0.3953946 , 0.36370838, 0.43974606, 0.38074277, 0.41450746,\n",
              "       0.37923581, 0.35318486, 0.39305735, 0.3918893 , 0.48322739,\n",
              "       0.46467186, 0.37820832, 0.35579359, 0.37916131, 0.39761083,\n",
              "       0.39868686, 0.42825268, 0.3459362 , 0.38651425, 0.40763332,\n",
              "       0.38631432, 0.47662928, 0.37746826, 0.34673305, 0.37504712,\n",
              "       0.38578172, 0.38465159, 0.37691917, 0.36683633, 0.36801197,\n",
              "       0.39471308, 0.39343444, 0.37808317, 0.36664695, 0.43062346,\n",
              "       0.38111172, 0.38780393, 0.42839965, 0.37707369, 0.39011669,\n",
              "       0.37543448, 0.43611319, 0.39332923, 0.39064883, 0.37283538,\n",
              "       0.3682005 , 0.40104734, 0.42645797, 0.39880406, 0.39688248,\n",
              "       0.37868572, 0.37841166, 0.44868501, 0.39585131, 0.40015711,\n",
              "       0.38214093, 0.34594454, 0.38396166, 0.37842376, 0.52851651,\n",
              "       0.37641118, 0.43949076])"
            ]
          },
          "metadata": {},
          "execution_count": 127
        }
      ]
    },
    {
      "cell_type": "code",
      "source": [
        "from sklearn.metrics import accuracy_score\n",
        "print('El accuracy para mi tercer modelo es :{0:.2f}'.format(accuracy_score(y_test,rf_pred)))"
      ],
      "metadata": {
        "colab": {
          "base_uri": "https://localhost:8080/"
        },
        "id": "NZzK5u7Zd_Rm",
        "outputId": "64348eda-96f9-4879-90db-ef40f1f36367"
      },
      "execution_count": null,
      "outputs": [
        {
          "output_type": "stream",
          "name": "stdout",
          "text": [
            "El accuracy para mi tercer modelo es :0.66\n"
          ]
        }
      ]
    },
    {
      "cell_type": "code",
      "source": [
        "!pip install -q scikit-plot \n",
        "import scikitplot as skplt\n",
        "skplt.metrics.plot_confusion_matrix(y_test,rf_pred, figsize=(4,4))"
      ],
      "metadata": {
        "colab": {
          "base_uri": "https://localhost:8080/",
          "height": 277
        },
        "id": "3Zw3ykaH3iA3",
        "outputId": "4eb0f9fa-7c38-4a8a-8cf7-9e96a55894ec"
      },
      "execution_count": null,
      "outputs": [
        {
          "output_type": "execute_result",
          "data": {
            "text/plain": [
              "<matplotlib.axes._subplots.AxesSubplot at 0x7f3218a0dbd0>"
            ]
          },
          "metadata": {},
          "execution_count": 129
        },
        {
          "output_type": "display_data",
          "data": {
            "image/png": "[encoded data removed]",
            "text/plain": [
              "<Figure size 288x288 with 2 Axes>"
            ]
          },
          "metadata": {
            "needs_background": "light"
          }
        }
      ]
    },
    {
      "cell_type": "code",
      "source": [
        "from sklearn.metrics import classification_report \n",
        "rf_report = classification_report(y_test, rf_pred, target_names=['0' , '1']) \n",
        "print(rf_report)"
      ],
      "metadata": {
        "colab": {
          "base_uri": "https://localhost:8080/"
        },
        "id": "yF-97D6J3aPv",
        "outputId": "ba798b9c-9ee4-4cce-c262-1298aa31ef55"
      },
      "execution_count": null,
      "outputs": [
        {
          "output_type": "stream",
          "name": "stdout",
          "text": [
            "              precision    recall  f1-score   support\n",
            "\n",
            "           0       0.65      0.99      0.79       295\n",
            "           1       0.76      0.08      0.14       167\n",
            "\n",
            "    accuracy                           0.66       462\n",
            "   macro avg       0.71      0.53      0.46       462\n",
            "weighted avg       0.69      0.66      0.55       462\n",
            "\n"
          ]
        }
      ]
    },
    {
      "cell_type": "markdown",
      "source": [
        "Utilizando K-Fold Cross Validation y SMOTE (data desbalanceada)"
      ],
      "metadata": {
        "id": "vWqMWS7ceU3Y"
      }
    },
    {
      "cell_type": "code",
      "source": [
        "from imblearn.over_sampling import SMOTE\n",
        "oversample = SMOTE()\n",
        "x_res, y_res = oversample.fit_resample(X, y)"
      ],
      "metadata": {
        "id": "Ua3OHMrsfPIs"
      },
      "execution_count": null,
      "outputs": []
    },
    {
      "cell_type": "code",
      "source": [
        "x_res.shape,y_res.shape"
      ],
      "metadata": {
        "colab": {
          "base_uri": "https://localhost:8080/"
        },
        "id": "pn0EAyRE3FVp",
        "outputId": "91fd648a-8dd1-4916-d6bb-3cacbe061d03"
      },
      "execution_count": null,
      "outputs": [
        {
          "output_type": "execute_result",
          "data": {
            "text/plain": [
              "((3706, 9), (3706,))"
            ]
          },
          "metadata": {},
          "execution_count": 132
        }
      ]
    },
    {
      "cell_type": "code",
      "source": [
        "from numpy import mean\n",
        "from numpy import std\n",
        "from sklearn.model_selection import KFold\n",
        "from sklearn.model_selection import cross_val_score\n",
        "from sklearn.ensemble import RandomForestClassifier\n",
        "rf = RandomForestClassifier(n_estimators = 100)\n",
        "cv = KFold(n_splits=10, random_state=1, shuffle=True)\n",
        "scores = cross_val_score(rf, x_res, y_res, scoring='accuracy', cv=cv, n_jobs=-1)\n",
        "print('Accuracy: %.2f (%.2f)' % (mean(scores), std(scores)))"
      ],
      "metadata": {
        "colab": {
          "base_uri": "https://localhost:8080/"
        },
        "id": "ndK2_PJSfO8n",
        "outputId": "6fa4d917-0116-446b-c8fe-d1b550b14c8e"
      },
      "execution_count": null,
      "outputs": [
        {
          "output_type": "stream",
          "name": "stdout",
          "text": [
            "Accuracy: 0.73 (0.02)\n"
          ]
        }
      ]
    },
    {
      "cell_type": "markdown",
      "source": [
        "#3. Modelo Regresión Logística"
      ],
      "metadata": {
        "id": "BS0r_uYhoqa-"
      }
    },
    {
      "cell_type": "code",
      "source": [
        "from sklearn.linear_model import LogisticRegression \n",
        "rl = LogisticRegression(random_state=1) \n",
        "rl.fit(X_train, y_train) \n",
        "rl_pred = rl.predict(X_test)\n",
        "rl_pred"
      ],
      "metadata": {
        "colab": {
          "base_uri": "https://localhost:8080/"
        },
        "id": "GsaSLCgVo61N",
        "outputId": "469a7a7b-f3ea-479d-a628-c31232e93a98"
      },
      "execution_count": null,
      "outputs": [
        {
          "output_type": "execute_result",
          "data": {
            "text/plain": [
              "array([0, 0, 0, 0, 0, 0, 0, 0, 0, 0, 0, 0, 0, 0, 0, 0, 0, 0, 0, 0, 0, 0,\n",
              "       0, 0, 0, 0, 0, 0, 0, 0, 0, 0, 0, 0, 0, 0, 0, 0, 0, 0, 0, 0, 0, 0,\n",
              "       0, 0, 0, 0, 0, 0, 0, 0, 0, 0, 0, 0, 0, 0, 0, 0, 0, 0, 0, 0, 0, 0,\n",
              "       0, 0, 0, 0, 0, 0, 0, 0, 0, 0, 0, 0, 0, 0, 0, 0, 0, 0, 0, 0, 0, 0,\n",
              "       0, 0, 0, 0, 0, 0, 0, 0, 0, 0, 0, 0, 0, 0, 0, 0, 0, 0, 0, 0, 0, 0,\n",
              "       0, 0, 0, 0, 0, 0, 0, 0, 0, 0, 0, 0, 0, 0, 0, 0, 0, 0, 0, 0, 0, 0,\n",
              "       0, 0, 0, 0, 0, 0, 0, 0, 0, 0, 0, 0, 0, 0, 0, 0, 0, 0, 0, 0, 0, 0,\n",
              "       0, 0, 0, 0, 0, 0, 0, 0, 0, 0, 0, 0, 0, 0, 0, 0, 0, 0, 0, 0, 0, 0,\n",
              "       0, 0, 0, 0, 0, 0, 0, 0, 0, 0, 0, 0, 0, 0, 0, 0, 0, 0, 0, 0, 0, 0,\n",
              "       0, 0, 0, 0, 0, 0, 0, 0, 0, 0, 0, 0, 0, 0, 0, 0, 0, 0, 0, 0, 0, 0,\n",
              "       0, 0, 0, 0, 0, 0, 0, 0, 0, 0, 0, 0, 0, 0, 0, 0, 0, 0, 0, 0, 0, 0,\n",
              "       0, 0, 0, 0, 0, 0, 0, 0, 0, 0, 0, 0, 0, 0, 0, 0, 0, 0, 0, 0, 0, 0,\n",
              "       0, 0, 0, 0, 0, 0, 0, 0, 0, 0, 0, 0, 0, 0, 0, 0, 0, 0, 0, 0, 0, 0,\n",
              "       0, 0, 0, 0, 0, 0, 0, 0, 0, 0, 0, 0, 0, 0, 0, 0, 0, 0, 0, 0, 0, 0,\n",
              "       0, 0, 0, 0, 0, 0, 0, 0, 0, 0, 0, 0, 0, 0, 0, 0, 0, 0, 0, 0, 0, 0,\n",
              "       0, 0, 0, 0, 0, 0, 0, 0, 0, 0, 0, 0, 0, 0, 0, 0, 0, 0, 0, 0, 0, 0,\n",
              "       0, 0, 0, 0, 0, 0, 0, 0, 0, 0, 0, 0, 0, 0, 0, 0, 0, 0, 0, 0, 0, 0,\n",
              "       0, 0, 0, 0, 0, 0, 0, 0, 0, 0, 0, 0, 0, 0, 0, 0, 0, 0, 0, 0, 0, 0,\n",
              "       0, 0, 0, 0, 0, 0, 0, 0, 0, 0, 0, 0, 0, 0, 0, 0, 0, 0, 0, 0, 0, 0,\n",
              "       0, 0, 0, 0, 0, 0, 0, 0, 0, 0, 0, 0, 0, 0, 0, 0, 0, 0, 0, 0, 0, 0,\n",
              "       0, 0, 0, 0, 0, 0, 0, 0, 0, 0, 0, 0, 0, 0, 0, 0, 0, 0, 0, 0, 0, 0])"
            ]
          },
          "metadata": {},
          "execution_count": 134
        }
      ]
    },
    {
      "cell_type": "code",
      "source": [
        "rl_prob = rl.predict_proba(X_test)[:, 1]\n",
        "rl_prob"
      ],
      "metadata": {
        "colab": {
          "base_uri": "https://localhost:8080/"
        },
        "id": "phYCyqV7pGeg",
        "outputId": "9809bd7f-d773-428f-c0e6-55cadeb5366f"
      },
      "execution_count": null,
      "outputs": [
        {
          "output_type": "execute_result",
          "data": {
            "text/plain": [
              "array([0.40481067, 0.40527201, 0.40548882, 0.40518753, 0.40498648,\n",
              "       0.40489151, 0.40479857, 0.40415248, 0.40480592, 0.40497084,\n",
              "       0.40479277, 0.40463513, 0.40488167, 0.40424899, 0.40466305,\n",
              "       0.40429235, 0.40488378, 0.40478359, 0.40486635, 0.40460814,\n",
              "       0.40516802, 0.40503366, 0.40476038, 0.40403844, 0.40505204,\n",
              "       0.40458296, 0.40518471, 0.40448272, 0.40518664, 0.40548432,\n",
              "       0.405755  , 0.40493033, 0.40514235, 0.40488088, 0.40547265,\n",
              "       0.40443519, 0.404958  , 0.40467536, 0.40537179, 0.40437855,\n",
              "       0.40548569, 0.40518302, 0.40583229, 0.405283  , 0.40535602,\n",
              "       0.40486765, 0.40534744, 0.4046857 , 0.40473163, 0.40454711,\n",
              "       0.40466546, 0.40523299, 0.40457062, 0.40454971, 0.40501598,\n",
              "       0.40476636, 0.40499238, 0.40470883, 0.40506539, 0.40490254,\n",
              "       0.40564492, 0.40544005, 0.40444391, 0.40544041, 0.4045338 ,\n",
              "       0.40458066, 0.40476965, 0.40492926, 0.40489721, 0.4049896 ,\n",
              "       0.40595814, 0.40483877, 0.4043267 , 0.40589589, 0.40454953,\n",
              "       0.40506346, 0.40422869, 0.4057205 , 0.40494871, 0.40448823,\n",
              "       0.40421394, 0.40482633, 0.4046992 , 0.40465688, 0.40474539,\n",
              "       0.40547096, 0.40418552, 0.4043161 , 0.40475976, 0.40539024,\n",
              "       0.40473772, 0.40486397, 0.40500241, 0.40543141, 0.40486077,\n",
              "       0.40445433, 0.40529712, 0.40448054, 0.40485208, 0.40465762,\n",
              "       0.40468464, 0.40476686, 0.40419   , 0.40618991, 0.40540635,\n",
              "       0.40543073, 0.40443971, 0.40466424, 0.40532634, 0.40445579,\n",
              "       0.40482937, 0.40554329, 0.40428913, 0.40522164, 0.40506632,\n",
              "       0.40507691, 0.40485849, 0.4046667 , 0.40503531, 0.40497346,\n",
              "       0.40495573, 0.40440326, 0.40553646, 0.40482185, 0.40478436,\n",
              "       0.40496114, 0.40533252, 0.40447304, 0.40454281, 0.40514429,\n",
              "       0.40546411, 0.4046756 , 0.40464544, 0.40510391, 0.40439439,\n",
              "       0.40433123, 0.40513216, 0.4042469 , 0.40560731, 0.40497733,\n",
              "       0.40504257, 0.40492653, 0.40527335, 0.4054683 , 0.40487985,\n",
              "       0.40498084, 0.40538758, 0.40402565, 0.404888  , 0.40492913,\n",
              "       0.40442215, 0.40475482, 0.40548802, 0.40473159, 0.40438272,\n",
              "       0.40455425, 0.40490121, 0.40422205, 0.40481168, 0.4050993 ,\n",
              "       0.40493425, 0.40514585, 0.40455941, 0.40545981, 0.40420899,\n",
              "       0.40501519, 0.40450196, 0.4044502 , 0.40506525, 0.40470688,\n",
              "       0.40446091, 0.40513946, 0.40442281, 0.40567131, 0.40578032,\n",
              "       0.40444545, 0.40424589, 0.40480096, 0.40497116, 0.40468781,\n",
              "       0.40455816, 0.40489482, 0.40484513, 0.40485982, 0.40421813,\n",
              "       0.40521501, 0.40510497, 0.40508532, 0.4052393 , 0.40480885,\n",
              "       0.4044534 , 0.4046278 , 0.40501737, 0.40444041, 0.4046956 ,\n",
              "       0.40432862, 0.40497247, 0.40584048, 0.40480859, 0.40487689,\n",
              "       0.40533144, 0.40538684, 0.40508638, 0.40465064, 0.40523089,\n",
              "       0.40462694, 0.4043875 , 0.40400339, 0.40470658, 0.40493096,\n",
              "       0.4049621 , 0.40483462, 0.4049408 , 0.40497175, 0.40514363,\n",
              "       0.40525894, 0.40520889, 0.40509072, 0.40581739, 0.40553877,\n",
              "       0.40450139, 0.40543172, 0.40520682, 0.40445782, 0.40495358,\n",
              "       0.40529644, 0.4052775 , 0.40447034, 0.40473568, 0.40472031,\n",
              "       0.40519598, 0.40501345, 0.40492815, 0.40535862, 0.40497636,\n",
              "       0.40506133, 0.40542668, 0.40589337, 0.40494712, 0.40474944,\n",
              "       0.40389682, 0.40473781, 0.40481891, 0.40554508, 0.40428015,\n",
              "       0.4051112 , 0.40455759, 0.40485823, 0.40464789, 0.40542347,\n",
              "       0.40475302, 0.40497978, 0.40524502, 0.40465828, 0.40580738,\n",
              "       0.40459509, 0.40502831, 0.40537575, 0.40440905, 0.40471562,\n",
              "       0.40426764, 0.40494897, 0.40479534, 0.40495547, 0.40426117,\n",
              "       0.40480893, 0.40501528, 0.40460079, 0.4053888 , 0.40567675,\n",
              "       0.40480808, 0.40449083, 0.40438893, 0.40499258, 0.40432559,\n",
              "       0.40472778, 0.40520168, 0.40499458, 0.40518114, 0.40498519,\n",
              "       0.40498161, 0.4052368 , 0.40468495, 0.40492122, 0.40514929,\n",
              "       0.40444283, 0.40432025, 0.40485312, 0.40555153, 0.40519303,\n",
              "       0.40484962, 0.4055227 , 0.40468938, 0.40467859, 0.404576  ,\n",
              "       0.40487978, 0.40497367, 0.40476315, 0.40484344, 0.40422041,\n",
              "       0.40534699, 0.40495419, 0.40499712, 0.40479494, 0.40440966,\n",
              "       0.40471435, 0.4050955 , 0.4046634 , 0.40495143, 0.40518392,\n",
              "       0.40495273, 0.40542582, 0.4044579 , 0.40542814, 0.40580499,\n",
              "       0.40486219, 0.40502267, 0.40492554, 0.40430054, 0.40458058,\n",
              "       0.40592869, 0.40484239, 0.40466683, 0.40470116, 0.40500693,\n",
              "       0.40478874, 0.40476323, 0.40498688, 0.40524759, 0.40442376,\n",
              "       0.405037  , 0.40452091, 0.40502412, 0.40417548, 0.40522727,\n",
              "       0.40487303, 0.40526645, 0.40653831, 0.40553511, 0.40617633,\n",
              "       0.40532713, 0.40466914, 0.40356846, 0.40420264, 0.40504412,\n",
              "       0.4058121 , 0.40440691, 0.40448767, 0.40437203, 0.40539154,\n",
              "       0.40497417, 0.40444355, 0.40498907, 0.4039421 , 0.4055925 ,\n",
              "       0.40520578, 0.40446753, 0.40491278, 0.40500932, 0.40508032,\n",
              "       0.40472176, 0.40514276, 0.40463351, 0.40537149, 0.40491842,\n",
              "       0.40514457, 0.40515384, 0.40565512, 0.40453666, 0.40541622,\n",
              "       0.40558405, 0.40580824, 0.40479575, 0.40490035, 0.40484081,\n",
              "       0.40489788, 0.40448717, 0.40552497, 0.40494869, 0.40458472,\n",
              "       0.40512026, 0.40473184, 0.40520018, 0.40513682, 0.40507685,\n",
              "       0.40477615, 0.40473315, 0.40533498, 0.40499933, 0.40530221,\n",
              "       0.40420364, 0.40570581, 0.40508897, 0.40447663, 0.40533379,\n",
              "       0.40474698, 0.40542176, 0.40466353, 0.40520566, 0.40523288,\n",
              "       0.40539719, 0.40455056, 0.40496012, 0.40539943, 0.40540263,\n",
              "       0.40458121, 0.40487928, 0.40517797, 0.405143  , 0.40510876,\n",
              "       0.4049827 , 0.40492995, 0.40419048, 0.40464511, 0.40469962,\n",
              "       0.4052574 , 0.40505275, 0.40473562, 0.40563954, 0.40522662,\n",
              "       0.40457907, 0.405072  , 0.40486606, 0.40442445, 0.40518733,\n",
              "       0.40494564, 0.40528862, 0.40463013, 0.40434339, 0.4053354 ,\n",
              "       0.40463094, 0.40529107, 0.40508643, 0.40530828, 0.40570409,\n",
              "       0.40581242, 0.40488995, 0.40502288, 0.40418444, 0.40549625,\n",
              "       0.40493164, 0.40549263, 0.40453317, 0.40513675, 0.40445309,\n",
              "       0.40494717, 0.40494002, 0.40457727, 0.40495857, 0.40488632,\n",
              "       0.40485337, 0.40510088, 0.40407772, 0.4047174 , 0.40490052,\n",
              "       0.40513457, 0.40436912, 0.40539105, 0.40464452, 0.40525311,\n",
              "       0.40466816, 0.40500892])"
            ]
          },
          "metadata": {},
          "execution_count": 135
        }
      ]
    },
    {
      "cell_type": "code",
      "source": [
        "coeficientes = pd.DataFrame({'variables':X_train.columns.values, 'betas': np.round(rl.coef_[0],4) })\n",
        "coeficientes"
      ],
      "metadata": {
        "colab": {
          "base_uri": "https://localhost:8080/",
          "height": 331
        },
        "id": "bmI9ECsQpLJo",
        "outputId": "a0a44cce-a24e-4d40-8de9-314bea61db1d"
      },
      "execution_count": null,
      "outputs": [
        {
          "output_type": "execute_result",
          "data": {
            "text/html": [
              "\n",
              "  <div id=\"df-a95ff5ce-74a1-490c-b440-977d706f40ee\">\n",
              "    <div class=\"colab-df-container\">\n",
              "      <div>\n",
              "<style scoped>\n",
              "    .dataframe tbody tr th:only-of-type {\n",
              "        vertical-align: middle;\n",
              "    }\n",
              "\n",
              "    .dataframe tbody tr th {\n",
              "        vertical-align: top;\n",
              "    }\n",
              "\n",
              "    .dataframe thead th {\n",
              "        text-align: right;\n",
              "    }\n",
              "</style>\n",
              "<table border=\"1\" class=\"dataframe\">\n",
              "  <thead>\n",
              "    <tr style=\"text-align: right;\">\n",
              "      <th></th>\n",
              "      <th>variables</th>\n",
              "      <th>betas</th>\n",
              "    </tr>\n",
              "  </thead>\n",
              "  <tbody>\n",
              "    <tr>\n",
              "      <th>0</th>\n",
              "      <td>ph</td>\n",
              "      <td>-0.0335</td>\n",
              "    </tr>\n",
              "    <tr>\n",
              "      <th>1</th>\n",
              "      <td>Hardness</td>\n",
              "      <td>-0.0466</td>\n",
              "    </tr>\n",
              "    <tr>\n",
              "      <th>2</th>\n",
              "      <td>Solids</td>\n",
              "      <td>0.2288</td>\n",
              "    </tr>\n",
              "    <tr>\n",
              "      <th>3</th>\n",
              "      <td>Chloramines</td>\n",
              "      <td>0.1243</td>\n",
              "    </tr>\n",
              "    <tr>\n",
              "      <th>4</th>\n",
              "      <td>Sulfate</td>\n",
              "      <td>-0.0618</td>\n",
              "    </tr>\n",
              "    <tr>\n",
              "      <th>5</th>\n",
              "      <td>Conductivity</td>\n",
              "      <td>-0.0856</td>\n",
              "    </tr>\n",
              "    <tr>\n",
              "      <th>6</th>\n",
              "      <td>Organic_carbon</td>\n",
              "      <td>-0.1367</td>\n",
              "    </tr>\n",
              "    <tr>\n",
              "      <th>7</th>\n",
              "      <td>Trihalomethanes</td>\n",
              "      <td>0.0200</td>\n",
              "    </tr>\n",
              "    <tr>\n",
              "      <th>8</th>\n",
              "      <td>Turbidity</td>\n",
              "      <td>0.0962</td>\n",
              "    </tr>\n",
              "  </tbody>\n",
              "</table>\n",
              "</div>\n",
              "      <button class=\"colab-df-convert\" onclick=\"convertToInteractive('df-a95ff5ce-74a1-490c-b440-977d706f40ee')\"\n",
              "              title=\"Convert this dataframe to an interactive table.\"\n",
              "              style=\"display:none;\">\n",
              "        \n",
              "  <svg xmlns=\"http://www.w3.org/2000/svg\" height=\"24px\"viewBox=\"0 0 24 24\"\n",
              "       width=\"24px\">\n",
              "    <path d=\"M0 0h24v24H0V0z\" fill=\"none\"/>\n",
              "    <path d=\"M18.56 5.44l.94 2.06.94-2.06 2.06-.94-2.06-.94-.94-2.06-.94 2.06-2.06.94zm-11 1L8.5 8.5l.94-2.06 2.06-.94-2.06-.94L8.5 2.5l-.94 2.06-2.06.94zm10 10l.94 2.06.94-2.06 2.06-.94-2.06-.94-.94-2.06-.94 2.06-2.06.94z\"/><path d=\"M17.41 7.96l-1.37-1.37c-.4-.4-.92-.59-1.43-.59-.52 0-1.04.2-1.43.59L10.3 9.45l-7.72 7.72c-.78.78-.78 2.05 0 2.83L4 21.41c.39.39.9.59 1.41.59.51 0 1.02-.2 1.41-.59l7.78-7.78 2.81-2.81c.8-.78.8-2.07 0-2.86zM5.41 20L4 18.59l7.72-7.72 1.47 1.35L5.41 20z\"/>\n",
              "  </svg>\n",
              "      </button>\n",
              "      \n",
              "  <style>\n",
              "    .colab-df-container {\n",
              "      display:flex;\n",
              "      flex-wrap:wrap;\n",
              "      gap: 12px;\n",
              "    }\n",
              "\n",
              "    .colab-df-convert {\n",
              "      background-color: #E8F0FE;\n",
              "      border: none;\n",
              "      border-radius: 50%;\n",
              "      cursor: pointer;\n",
              "      display: none;\n",
              "      fill: #1967D2;\n",
              "      height: 32px;\n",
              "      padding: 0 0 0 0;\n",
              "      width: 32px;\n",
              "    }\n",
              "\n",
              "    .colab-df-convert:hover {\n",
              "      background-color: #E2EBFA;\n",
              "      box-shadow: 0px 1px 2px rgba(60, 64, 67, 0.3), 0px 1px 3px 1px rgba(60, 64, 67, 0.15);\n",
              "      fill: #174EA6;\n",
              "    }\n",
              "\n",
              "    [theme=dark] .colab-df-convert {\n",
              "      background-color: #3B4455;\n",
              "      fill: #D2E3FC;\n",
              "    }\n",
              "\n",
              "    [theme=dark] .colab-df-convert:hover {\n",
              "      background-color: #434B5C;\n",
              "      box-shadow: 0px 1px 3px 1px rgba(0, 0, 0, 0.15);\n",
              "      filter: drop-shadow(0px 1px 2px rgba(0, 0, 0, 0.3));\n",
              "      fill: #FFFFFF;\n",
              "    }\n",
              "  </style>\n",
              "\n",
              "      <script>\n",
              "        const buttonEl =\n",
              "          document.querySelector('#df-a95ff5ce-74a1-490c-b440-977d706f40ee button.colab-df-convert');\n",
              "        buttonEl.style.display =\n",
              "          google.colab.kernel.accessAllowed ? 'block' : 'none';\n",
              "\n",
              "        async function convertToInteractive(key) {\n",
              "          const element = document.querySelector('#df-a95ff5ce-74a1-490c-b440-977d706f40ee');\n",
              "          const dataTable =\n",
              "            await google.colab.kernel.invokeFunction('convertToInteractive',\n",
              "                                                     [key], {});\n",
              "          if (!dataTable) return;\n",
              "\n",
              "          const docLinkHtml = 'Like what you see? Visit the ' +\n",
              "            '<a target=\"_blank\" href=https://colab.research.google.com/notebooks/data_table.ipynb>data table notebook</a>'\n",
              "            + ' to learn more about interactive tables.';\n",
              "          element.innerHTML = '';\n",
              "          dataTable['output_type'] = 'display_data';\n",
              "          await google.colab.output.renderOutput(dataTable, element);\n",
              "          const docLink = document.createElement('div');\n",
              "          docLink.innerHTML = docLinkHtml;\n",
              "          element.appendChild(docLink);\n",
              "        }\n",
              "      </script>\n",
              "    </div>\n",
              "  </div>\n",
              "  "
            ],
            "text/plain": [
              "         variables   betas\n",
              "0               ph -0.0335\n",
              "1         Hardness -0.0466\n",
              "2           Solids  0.2288\n",
              "3      Chloramines  0.1243\n",
              "4          Sulfate -0.0618\n",
              "5     Conductivity -0.0856\n",
              "6   Organic_carbon -0.1367\n",
              "7  Trihalomethanes  0.0200\n",
              "8        Turbidity  0.0962"
            ]
          },
          "metadata": {},
          "execution_count": 136
        }
      ]
    },
    {
      "cell_type": "code",
      "source": [
        "from sklearn.metrics import accuracy_score\n",
        "print('El accuracy para mi primero modelo es :{0:.2f}'.format(accuracy_score(y_test,rl_pred)))"
      ],
      "metadata": {
        "colab": {
          "base_uri": "https://localhost:8080/"
        },
        "id": "nlsc7ULzpK__",
        "outputId": "c1f71e5f-14d2-4994-8868-11f3f3524539"
      },
      "execution_count": null,
      "outputs": [
        {
          "output_type": "stream",
          "name": "stdout",
          "text": [
            "El accuracy para mi primero modelo es :0.64\n"
          ]
        }
      ]
    },
    {
      "cell_type": "code",
      "source": [
        "skplt.metrics.plot_confusion_matrix(y_test,rl_pred, figsize=(4,4))"
      ],
      "metadata": {
        "colab": {
          "base_uri": "https://localhost:8080/",
          "height": 277
        },
        "id": "D6aWh0Zg4u3G",
        "outputId": "efd6ca7d-1f9d-4fa5-e9c5-e7843d925790"
      },
      "execution_count": null,
      "outputs": [
        {
          "output_type": "execute_result",
          "data": {
            "text/plain": [
              "<matplotlib.axes._subplots.AxesSubplot at 0x7f3218be80d0>"
            ]
          },
          "metadata": {},
          "execution_count": 138
        },
        {
          "output_type": "display_data",
          "data": {
            "image/png": "[encoded data removed]",
            "text/plain": [
              "<Figure size 288x288 with 2 Axes>"
            ]
          },
          "metadata": {
            "needs_background": "light"
          }
        }
      ]
    },
    {
      "cell_type": "code",
      "source": [
        "rl_report = classification_report(y_test, rl_pred, target_names=['0' , '1']) \n",
        "print(rl_report)"
      ],
      "metadata": {
        "colab": {
          "base_uri": "https://localhost:8080/"
        },
        "id": "sOdrZIhc4uWC",
        "outputId": "9b60381b-98f7-4a07-8ec4-b4b15e6b9781"
      },
      "execution_count": null,
      "outputs": [
        {
          "output_type": "stream",
          "name": "stdout",
          "text": [
            "              precision    recall  f1-score   support\n",
            "\n",
            "           0       0.64      1.00      0.78       295\n",
            "           1       0.00      0.00      0.00       167\n",
            "\n",
            "    accuracy                           0.64       462\n",
            "   macro avg       0.32      0.50      0.39       462\n",
            "weighted avg       0.41      0.64      0.50       462\n",
            "\n"
          ]
        },
        {
          "output_type": "stream",
          "name": "stderr",
          "text": [
            "/usr/local/lib/python3.7/dist-packages/sklearn/metrics/_classification.py:1318: UndefinedMetricWarning: Precision and F-score are ill-defined and being set to 0.0 in labels with no predicted samples. Use `zero_division` parameter to control this behavior.\n",
            "  _warn_prf(average, modifier, msg_start, len(result))\n",
            "/usr/local/lib/python3.7/dist-packages/sklearn/metrics/_classification.py:1318: UndefinedMetricWarning: Precision and F-score are ill-defined and being set to 0.0 in labels with no predicted samples. Use `zero_division` parameter to control this behavior.\n",
            "  _warn_prf(average, modifier, msg_start, len(result))\n",
            "/usr/local/lib/python3.7/dist-packages/sklearn/metrics/_classification.py:1318: UndefinedMetricWarning: Precision and F-score are ill-defined and being set to 0.0 in labels with no predicted samples. Use `zero_division` parameter to control this behavior.\n",
            "  _warn_prf(average, modifier, msg_start, len(result))\n"
          ]
        }
      ]
    },
    {
      "cell_type": "markdown",
      "source": [
        "Utilizando K-Fold Cross Validation"
      ],
      "metadata": {
        "id": "DFXRGjKtpR7U"
      }
    },
    {
      "cell_type": "code",
      "source": [
        "from numpy import mean\n",
        "from numpy import std\n",
        "from sklearn.model_selection import KFold\n",
        "from sklearn.model_selection import cross_val_score\n",
        "from sklearn.linear_model import LogisticRegression \n",
        "rl = LogisticRegression(random_state=1)\n",
        "cv = KFold(n_splits=10, random_state=1, shuffle=True)\n",
        "scores = cross_val_score(rl, x_res, y_res, scoring='accuracy', cv=cv, n_jobs=-1)\n",
        "print('Accuracy: %.2f (%.2f)' % (mean(scores), std(scores)))"
      ],
      "metadata": {
        "colab": {
          "base_uri": "https://localhost:8080/"
        },
        "id": "2vJCenGApQRi",
        "outputId": "362ad776-b4ee-418b-a5bc-8f8d8bb47765"
      },
      "execution_count": null,
      "outputs": [
        {
          "output_type": "stream",
          "name": "stdout",
          "text": [
            "Accuracy: 0.47 (0.01)\n"
          ]
        }
      ]
    },
    {
      "cell_type": "markdown",
      "metadata": {
        "id": "aYD2v7gEFTyr"
      },
      "source": [
        "#4. Resultados Obtenidos"
      ]
    },
    {
      "cell_type": "markdown",
      "source": [
        "Después de haber utilizado los modelos Random Forest y de Regresión Logística, se concluye que el más apropiado es el primero pues con este, se obtiene un mayor accuracy 0.66, mientras que en el otro, 0.64. Adicionalmente, al aplicar **K-Fold Cross Validation** para el entrenamiento y validación de datos, se obtuvo un aumento en el **accuracy** para el modelo **Random Forest (0.74)**, mientras que para el modelo de Regresión Logística un descenso (0.47). \n",
        " \n",
        "El modelo de Regresión Logística resulto ser deficiente pues no predecía valores '1' en el target predecido.\n",
        "\n",
        "Además de ello, cabe mencionar que se realizó una limpieza de outliers únicamente en la variable ph, ya que al realizar el mismo procedimiento en las demás variables, el modelo era afectado, no se obtenía valores '1' en el target predecido, solo '0'. Por ello, se optó por eliminar los outliers en la variable que presenta la mayor cantidad y que se hallen más alejados de la media.\n"
      ],
      "metadata": {
        "id": "utpsXzlyrME0"
      }
    }
  ],
  "metadata": {
    "colab": {
      "collapsed_sections": [
        "aYD2v7gEFTyr"
      ],
      "provenance": []
    },
    "kernelspec": {
      "display_name": "Python 3",
      "name": "python3"
    },
    "language_info": {
      "name": "python"
    }
  },
  "nbformat": 4,
  "nbformat_minor": 0
}